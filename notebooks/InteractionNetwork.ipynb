{
 "cells": [
  {
   "cell_type": "code",
   "execution_count": 1,
   "id": "cd48543c-00db-4f95-a65b-1ed0bb6542d9",
   "metadata": {},
   "outputs": [
    {
     "name": "stdout",
     "output_type": "stream",
     "text": [
      "Using device: cuda\n"
     ]
    }
   ],
   "source": [
    "from libs.basic import *\n",
    "import torch\n",
    "import torch_geometric\n",
    "from torch import Tensor\n",
    "import torch.nn as nn\n",
    "import torch.nn.functional as F\n",
    "import torch_geometric.transforms as T\n",
    "from torch_geometric.nn import MessagePassing\n",
    "from torch.nn import Sequential as Seq, Linear, ReLU, Sigmoid\n",
    "import torch.optim as optim\n",
    "import joblib\n",
    "from scipy.optimize import root_scalar\n",
    "\n",
    "pd.set_option(\"display.max_columns\", 100)\n",
    "PATH_DATA0 = './data/00.01'\n",
    "PATH_DATA = './data/00.02'\n",
    "RANDOM_SEED =0\n",
    "np.random.seed(RANDOM_SEED)  \n",
    "device = torch.device(\"cuda\" if torch.cuda.is_available() else \"cpu\")\n"
   ]
  },
  {
   "cell_type": "markdown",
   "id": "b52d8520-ae75-4eb4-9861-d8180b66a491",
   "metadata": {},
   "source": [
    "# Hyperparameters"
   ]
  },
  {
   "cell_type": "code",
   "execution_count": 2,
   "id": "42fe8bb8-066b-4b6b-a8f6-54e8a90c992d",
   "metadata": {},
   "outputs": [],
   "source": [
    "CRITERION = nn.BCEWithLogitsLoss()\n",
    "LR = 0.001\n",
    "TOLERANCE = 20\n",
    "LR_TOLERANCE= 5\n",
    "MAX_EPOCHS = 200\n",
    "BATCH_SIZE = 4"
   ]
  },
  {
   "cell_type": "markdown",
   "id": "7fe91bb8-0c7c-48d2-a847-8d49edbb98fe",
   "metadata": {},
   "source": [
    "# Loaders"
   ]
  },
  {
   "cell_type": "code",
   "execution_count": 3,
   "id": "c57214d9-6e6a-4ecf-ae09-238372e64216",
   "metadata": {},
   "outputs": [],
   "source": [
    "loader_train = pyg.loader.DataLoader(\n",
    "    pd.read_pickle(os.path.join(PATH_DATA0, 'graphs','max_prob_10_subsample_0.1','graphs_train.pkl')).tolist(),\n",
    "    batch_size = BATCH_SIZE,shuffle = True)\n",
    "loader_val = pyg.loader.DataLoader(\n",
    "    pd.read_pickle(os.path.join(PATH_DATA0, 'graphs','max_prob_10_subsample_0.1','graphs_val.pkl')).tolist(),batch_size = BATCH_SIZE\n",
    "    ,shuffle = False)\n",
    "loader_test = pyg.loader.DataLoader(\n",
    "    pd.read_pickle(os.path.join(PATH_DATA0, 'graphs','max_prob_10_subsample_0.1','graphs_test.pkl')).tolist(),batch_size = BATCH_SIZE\n",
    "    ,shuffle = False)"
   ]
  },
  {
   "cell_type": "markdown",
   "id": "2222d194-3ee1-42b0-998b-0c76b5ca8d0c",
   "metadata": {},
   "source": [
    "# Model Architecture"
   ]
  },
  {
   "cell_type": "code",
   "execution_count": 4,
   "id": "bf055fc6-4688-4670-8bc5-907010be4eab",
   "metadata": {},
   "outputs": [],
   "source": [
    "class RelationalModel(nn.Module):\n",
    "    def __init__(self, input_size, output_size, hidden_size, n_layers):\n",
    "        super(RelationalModel, self).__init__()\n",
    "\n",
    "        layers = [nn.Linear(input_size, hidden_size), \n",
    "                 nn.ReLU()]\n",
    "        if n_layers>=3:\n",
    "            for _ in range(n_layers - 2):\n",
    "                layers.append(nn.Linear(hidden_size, hidden_size))\n",
    "                layers.append(nn.ReLU())\n",
    "\n",
    "        layers.append(nn.Linear(hidden_size, output_size))\n",
    "\n",
    "        self.layers = nn.Sequential(*layers)\n",
    "\n",
    "    def forward(self, x):\n",
    "        return self.layers(x)\n",
    "class ObjectModel(nn.Module):\n",
    "    def __init__(self, input_size, output_size, hidden_size, n_layers):\n",
    "        super(ObjectModel, self).__init__()\n",
    "\n",
    "        layers = [nn.Linear(input_size, hidden_size), \n",
    "                 nn.ReLU()]\n",
    "        if n_layers>=3:\n",
    "            for _ in range(n_layers - 2):\n",
    "                layers.append(nn.Linear(hidden_size, hidden_size))\n",
    "                layers.append(nn.ReLU())\n",
    "\n",
    "        layers.append(nn.Linear(hidden_size, output_size))\n",
    "\n",
    "        self.layers = nn.Sequential(*layers)\n",
    "\n",
    "    def forward(self, C):\n",
    "        return self.layers(C)\n",
    "class InteractionNetwork(MessagePassing):\n",
    "    def __init__(self, hidden_size, n_layers):\n",
    "        super(InteractionNetwork, self).__init__(aggr='add', \n",
    "                                                 flow='source_to_target')\n",
    "        self.R1 = RelationalModel(10, 4, hidden_size, n_layers)\n",
    "        self.O = ObjectModel(7, 3, hidden_size, n_layers)\n",
    "        self.R2 = RelationalModel(10, 1, hidden_size, n_layers)\n",
    "        self.E: Tensor = Tensor()\n",
    "\n",
    "    def forward(self, x: Tensor, edge_index: Tensor, edge_attr: Tensor) -> Tensor:\n",
    "\n",
    "        # propagate_type: (x: Tensor, edge_attr: Tensor)\n",
    "        x_tilde = self.propagate(edge_index, x=x, edge_attr=edge_attr, size=None)\n",
    "\n",
    "        m2 = torch.cat([x_tilde[edge_index[1]],\n",
    "                        x_tilde[edge_index[0]],\n",
    "                        self.E], dim=1)\n",
    "        return self.R2(m2)\n",
    "\n",
    "    def message(self, x_i, x_j, edge_attr):\n",
    "        # x_i --> incoming\n",
    "        # x_j --> outgoing        \n",
    "        m1 = torch.cat([x_i, x_j, edge_attr], dim=1)\n",
    "        self.E = self.R1(m1)\n",
    "        return self.E\n",
    "\n",
    "    def update(self, aggr_out, x):\n",
    "        c = torch.cat([x, aggr_out], dim=1)\n",
    "        return self.O(c) "
   ]
  },
  {
   "cell_type": "markdown",
   "id": "e474f636-44c5-4064-b74d-2715dfe92888",
   "metadata": {},
   "source": [
    "# Functions"
   ]
  },
  {
   "cell_type": "code",
   "execution_count": 5,
   "id": "3bf42440-53fd-4ca4-84de-2752fcacb1c3",
   "metadata": {},
   "outputs": [],
   "source": [
    "def count_parameters(model):\n",
    "    trainable_params = sum(p.numel() for p in model.parameters() if p.requires_grad)\n",
    "    return trainable_params\n",
    "def evaluate(model, loader):\n",
    "    model.eval()\n",
    "    preds, actuals = [],[]\n",
    "    with torch.no_grad():\n",
    "        for batch in loader:\n",
    "            batch = batch.to(device)\n",
    "            preds.append(torch.sigmoid(model(batch.x, batch.edge_index, batch.edge_attr)))\n",
    "            actuals.append(batch.y)\n",
    "        preds = torch.cat(preds)\n",
    "        actuals = torch.cat(actuals)\n",
    "        acc = ((preds>0.5)==(actuals>0.5)).type(torch.float).mean().item()\n",
    "        entropy = CRITERION(preds, actuals.float()).item()\n",
    "    model.train()\n",
    "    return preds.cpu().numpy(), actuals.cpu().numpy(), acc, entropy\n",
    "def train_epoch(model, loader_train):\n",
    "    model.train()\n",
    "    train_loss = 0.0\n",
    "    for batch in tqdm(loader_train, leave = False):\n",
    "        batch = batch.to(device)\n",
    "        optimizer.zero_grad()\n",
    "        output = model(batch.x, batch.edge_index, batch.edge_attr)\n",
    "        loss = CRITERION(output, batch.y.float())\n",
    "        loss.backward()\n",
    "        optimizer.step()\n",
    "        train_loss += loss.item() * batch.num_graphs\n",
    "    train_loss /= len(loader_train)    \n",
    "    return train_loss\n"
   ]
  },
  {
   "cell_type": "markdown",
   "id": "8ff5c058-e13a-4203-9aff-6d8706678e06",
   "metadata": {},
   "source": [
    "# Train"
   ]
  },
  {
   "cell_type": "code",
   "execution_count": null,
   "id": "c828c0e9-5b48-4bc7-b401-4f620fd682f7",
   "metadata": {},
   "outputs": [
    {
     "data": {
      "application/vnd.jupyter.widget-view+json": {
       "model_id": "40c7d67b09fd4a08990ec72cccaec725",
       "version_major": 2,
       "version_minor": 0
      },
      "text/plain": [
       "  0%|          | 0/3 [00:00<?, ?it/s]"
      ]
     },
     "metadata": {},
     "output_type": "display_data"
    },
    {
     "data": {
      "application/vnd.jupyter.widget-view+json": {
       "model_id": "8842ddeb80c14cff8d0084e1a5149848",
       "version_major": 2,
       "version_minor": 0
      },
      "text/plain": [
       "  0%|          | 0/3 [00:00<?, ?it/s]"
      ]
     },
     "metadata": {},
     "output_type": "display_data"
    },
    {
     "name": "stdout",
     "output_type": "stream",
     "text": [
      "3 100000\n",
      "Epoch | Train Loss |  Val Loss |  Val Acc |  Test Acc\n",
      "--------------------------------------------------\n"
     ]
    },
    {
     "data": {
      "application/vnd.jupyter.widget-view+json": {
       "model_id": "d772b478b80a4ba8a93580f47bb4ab9b",
       "version_major": 2,
       "version_minor": 0
      },
      "text/plain": [
       "  0%|          | 0/200 [00:00<?, ?it/s]"
      ]
     },
     "metadata": {},
     "output_type": "display_data"
    },
    {
     "data": {
      "application/vnd.jupyter.widget-view+json": {
       "model_id": "0899073f2b904845833ecb769cac8a25",
       "version_major": 2,
       "version_minor": 0
      },
      "text/plain": [
       "  0%|          | 0/142 [00:00<?, ?it/s]"
      ]
     },
     "metadata": {},
     "output_type": "display_data"
    },
    {
     "name": "stdout",
     "output_type": "stream",
     "text": [
      "    1 |     1.1808 |    0.4255 |   0.9169 |    0.9200 *\n"
     ]
    },
    {
     "data": {
      "application/vnd.jupyter.widget-view+json": {
       "model_id": "cc0b603150724e2eb1ab09ef0aa331a4",
       "version_major": 2,
       "version_minor": 0
      },
      "text/plain": [
       "  0%|          | 0/142 [00:00<?, ?it/s]"
      ]
     },
     "metadata": {},
     "output_type": "display_data"
    },
    {
     "name": "stdout",
     "output_type": "stream",
     "text": [
      "    2 |     0.6986 |    0.4098 |   0.9399 |    0.9423 *\n"
     ]
    },
    {
     "data": {
      "application/vnd.jupyter.widget-view+json": {
       "model_id": "45ed30193ea54a8b87abe1b2ea0d6980",
       "version_major": 2,
       "version_minor": 0
      },
      "text/plain": [
       "  0%|          | 0/142 [00:00<?, ?it/s]"
      ]
     },
     "metadata": {},
     "output_type": "display_data"
    },
    {
     "name": "stdout",
     "output_type": "stream",
     "text": [
      "    3 |     0.5559 |    0.4035 |   0.9506 |    0.9523 *\n"
     ]
    },
    {
     "data": {
      "application/vnd.jupyter.widget-view+json": {
       "model_id": "94fc838f17244271a7f56f2e4c9e7142",
       "version_major": 2,
       "version_minor": 0
      },
      "text/plain": [
       "  0%|          | 0/142 [00:00<?, ?it/s]"
      ]
     },
     "metadata": {},
     "output_type": "display_data"
    },
    {
     "name": "stdout",
     "output_type": "stream",
     "text": [
      "    4 |     0.4930 |    0.4012 |   0.9523 |    0.9540 *\n"
     ]
    },
    {
     "data": {
      "application/vnd.jupyter.widget-view+json": {
       "model_id": "45f5dd73bbf14bf084503877abed6813",
       "version_major": 2,
       "version_minor": 0
      },
      "text/plain": [
       "  0%|          | 0/142 [00:00<?, ?it/s]"
      ]
     },
     "metadata": {},
     "output_type": "display_data"
    },
    {
     "name": "stdout",
     "output_type": "stream",
     "text": [
      "    5 |     0.4515 |    0.3976 |   0.9590 |    0.9600 *\n"
     ]
    },
    {
     "data": {
      "application/vnd.jupyter.widget-view+json": {
       "model_id": "9dae67f21c284e5ea2c9a1034e5844b1",
       "version_major": 2,
       "version_minor": 0
      },
      "text/plain": [
       "  0%|          | 0/142 [00:00<?, ?it/s]"
      ]
     },
     "metadata": {},
     "output_type": "display_data"
    },
    {
     "name": "stdout",
     "output_type": "stream",
     "text": [
      "    6 |     0.4240 |    0.3997 |   0.9565 |    0.9571\n"
     ]
    },
    {
     "data": {
      "application/vnd.jupyter.widget-view+json": {
       "model_id": "b2dd2009e94d446889f92f1b92925f83",
       "version_major": 2,
       "version_minor": 0
      },
      "text/plain": [
       "  0%|          | 0/142 [00:00<?, ?it/s]"
      ]
     },
     "metadata": {},
     "output_type": "display_data"
    },
    {
     "name": "stdout",
     "output_type": "stream",
     "text": [
      "    7 |     0.3920 |    0.3957 |   0.9623 |    0.9634 *\n"
     ]
    },
    {
     "data": {
      "application/vnd.jupyter.widget-view+json": {
       "model_id": "be9d262b5d3b4b848ac4bcbbbfd08ff8",
       "version_major": 2,
       "version_minor": 0
      },
      "text/plain": [
       "  0%|          | 0/142 [00:00<?, ?it/s]"
      ]
     },
     "metadata": {},
     "output_type": "display_data"
    },
    {
     "name": "stdout",
     "output_type": "stream",
     "text": [
      "    8 |     0.3737 |    0.3949 |   0.9630 |    0.9637 *\n"
     ]
    },
    {
     "data": {
      "application/vnd.jupyter.widget-view+json": {
       "model_id": "535a9f4e3290461db1b8ff05ce7efd06",
       "version_major": 2,
       "version_minor": 0
      },
      "text/plain": [
       "  0%|          | 0/142 [00:00<?, ?it/s]"
      ]
     },
     "metadata": {},
     "output_type": "display_data"
    },
    {
     "name": "stdout",
     "output_type": "stream",
     "text": [
      "    9 |     0.3559 |    0.3935 |   0.9654 |    0.9662 *\n"
     ]
    },
    {
     "data": {
      "application/vnd.jupyter.widget-view+json": {
       "model_id": "d8c7cabd8d26475e89868164dc3ca4cc",
       "version_major": 2,
       "version_minor": 0
      },
      "text/plain": [
       "  0%|          | 0/142 [00:00<?, ?it/s]"
      ]
     },
     "metadata": {},
     "output_type": "display_data"
    },
    {
     "name": "stdout",
     "output_type": "stream",
     "text": [
      "   10 |     0.3428 |    0.3925 |   0.9668 |    0.9675 *\n"
     ]
    },
    {
     "data": {
      "application/vnd.jupyter.widget-view+json": {
       "model_id": "fabe83fbd2ed4c2b8c6dc664f0682f00",
       "version_major": 2,
       "version_minor": 0
      },
      "text/plain": [
       "  0%|          | 0/142 [00:00<?, ?it/s]"
      ]
     },
     "metadata": {},
     "output_type": "display_data"
    },
    {
     "name": "stdout",
     "output_type": "stream",
     "text": [
      "   11 |     0.3351 |    0.3933 |   0.9646 |    0.9658\n"
     ]
    },
    {
     "data": {
      "application/vnd.jupyter.widget-view+json": {
       "model_id": "c87017e3ca4a44808edb913a450a254d",
       "version_major": 2,
       "version_minor": 0
      },
      "text/plain": [
       "  0%|          | 0/142 [00:00<?, ?it/s]"
      ]
     },
     "metadata": {},
     "output_type": "display_data"
    },
    {
     "name": "stdout",
     "output_type": "stream",
     "text": [
      "   12 |     0.3242 |    0.3913 |   0.9687 |    0.9696 *\n"
     ]
    },
    {
     "data": {
      "application/vnd.jupyter.widget-view+json": {
       "model_id": "c73b60c9d3234a59bbcc7634f3464569",
       "version_major": 2,
       "version_minor": 0
      },
      "text/plain": [
       "  0%|          | 0/142 [00:00<?, ?it/s]"
      ]
     },
     "metadata": {},
     "output_type": "display_data"
    },
    {
     "name": "stdout",
     "output_type": "stream",
     "text": [
      "   13 |     0.3116 |    0.3901 |   0.9703 |    0.9710 *\n"
     ]
    },
    {
     "data": {
      "application/vnd.jupyter.widget-view+json": {
       "model_id": "b315eebe52894bee9a7cf86fc12456d8",
       "version_major": 2,
       "version_minor": 0
      },
      "text/plain": [
       "  0%|          | 0/142 [00:00<?, ?it/s]"
      ]
     },
     "metadata": {},
     "output_type": "display_data"
    },
    {
     "name": "stdout",
     "output_type": "stream",
     "text": [
      "   14 |     0.3085 |    0.3906 |   0.9699 |    0.9708\n"
     ]
    },
    {
     "data": {
      "application/vnd.jupyter.widget-view+json": {
       "model_id": "915928e7f1fc4b5abccf9e205ceb67f6",
       "version_major": 2,
       "version_minor": 0
      },
      "text/plain": [
       "  0%|          | 0/142 [00:00<?, ?it/s]"
      ]
     },
     "metadata": {},
     "output_type": "display_data"
    },
    {
     "name": "stdout",
     "output_type": "stream",
     "text": [
      "   15 |     0.3002 |    0.3910 |   0.9684 |    0.9690\n"
     ]
    },
    {
     "data": {
      "application/vnd.jupyter.widget-view+json": {
       "model_id": "5a3e9f183564448a824cffd4304b043f",
       "version_major": 2,
       "version_minor": 0
      },
      "text/plain": [
       "  0%|          | 0/142 [00:00<?, ?it/s]"
      ]
     },
     "metadata": {},
     "output_type": "display_data"
    },
    {
     "name": "stdout",
     "output_type": "stream",
     "text": [
      "   16 |     0.2948 |    0.3892 |   0.9716 |    0.9722 *\n"
     ]
    },
    {
     "data": {
      "application/vnd.jupyter.widget-view+json": {
       "model_id": "0627c22962514c0786648fd322c9c656",
       "version_major": 2,
       "version_minor": 0
      },
      "text/plain": [
       "  0%|          | 0/142 [00:00<?, ?it/s]"
      ]
     },
     "metadata": {},
     "output_type": "display_data"
    },
    {
     "name": "stdout",
     "output_type": "stream",
     "text": [
      "   17 |     0.2862 |    0.3904 |   0.9705 |    0.9715\n"
     ]
    },
    {
     "data": {
      "application/vnd.jupyter.widget-view+json": {
       "model_id": "0adc3bf2846049eebed4956090dd081c",
       "version_major": 2,
       "version_minor": 0
      },
      "text/plain": [
       "  0%|          | 0/142 [00:00<?, ?it/s]"
      ]
     },
     "metadata": {},
     "output_type": "display_data"
    },
    {
     "name": "stdout",
     "output_type": "stream",
     "text": [
      "   18 |     0.2820 |    0.3885 |   0.9728 |    0.9736 *\n"
     ]
    },
    {
     "data": {
      "application/vnd.jupyter.widget-view+json": {
       "model_id": "291c134d7bbc40ddb4bc3053146421d9",
       "version_major": 2,
       "version_minor": 0
      },
      "text/plain": [
       "  0%|          | 0/142 [00:00<?, ?it/s]"
      ]
     },
     "metadata": {},
     "output_type": "display_data"
    },
    {
     "name": "stdout",
     "output_type": "stream",
     "text": [
      "   19 |     0.2733 |    0.3886 |   0.9728 |    0.9733\n"
     ]
    },
    {
     "data": {
      "application/vnd.jupyter.widget-view+json": {
       "model_id": "2dfb0d7976fa472db6b57fac4c7ebfb5",
       "version_major": 2,
       "version_minor": 0
      },
      "text/plain": [
       "  0%|          | 0/142 [00:00<?, ?it/s]"
      ]
     },
     "metadata": {},
     "output_type": "display_data"
    },
    {
     "name": "stdout",
     "output_type": "stream",
     "text": [
      "   20 |     0.2707 |    0.3874 |   0.9743 |    0.9751 *\n"
     ]
    },
    {
     "data": {
      "application/vnd.jupyter.widget-view+json": {
       "model_id": "ad7dca875a644f609e20ac3f0a4e6276",
       "version_major": 2,
       "version_minor": 0
      },
      "text/plain": [
       "  0%|          | 0/142 [00:00<?, ?it/s]"
      ]
     },
     "metadata": {},
     "output_type": "display_data"
    },
    {
     "name": "stdout",
     "output_type": "stream",
     "text": [
      "   21 |     0.2674 |    0.3880 |   0.9733 |    0.9742\n"
     ]
    },
    {
     "data": {
      "application/vnd.jupyter.widget-view+json": {
       "model_id": "4160aa728135406dbc801389d76c8073",
       "version_major": 2,
       "version_minor": 0
      },
      "text/plain": [
       "  0%|          | 0/142 [00:00<?, ?it/s]"
      ]
     },
     "metadata": {},
     "output_type": "display_data"
    },
    {
     "name": "stdout",
     "output_type": "stream",
     "text": [
      "   22 |     0.2592 |    0.3879 |   0.9750 |    0.9755\n"
     ]
    },
    {
     "data": {
      "application/vnd.jupyter.widget-view+json": {
       "model_id": "46790e3547ef468ea45879be51f64748",
       "version_major": 2,
       "version_minor": 0
      },
      "text/plain": [
       "  0%|          | 0/142 [00:00<?, ?it/s]"
      ]
     },
     "metadata": {},
     "output_type": "display_data"
    },
    {
     "name": "stdout",
     "output_type": "stream",
     "text": [
      "   23 |     0.2596 |    0.3871 |   0.9746 |    0.9750 *\n"
     ]
    },
    {
     "data": {
      "application/vnd.jupyter.widget-view+json": {
       "model_id": "829f9cbcc935447a943499f7805736d9",
       "version_major": 2,
       "version_minor": 0
      },
      "text/plain": [
       "  0%|          | 0/142 [00:00<?, ?it/s]"
      ]
     },
     "metadata": {},
     "output_type": "display_data"
    },
    {
     "name": "stdout",
     "output_type": "stream",
     "text": [
      "   24 |     0.2511 |    0.3872 |   0.9745 |    0.9752\n"
     ]
    },
    {
     "data": {
      "application/vnd.jupyter.widget-view+json": {
       "model_id": "c2b26310b00c4ca3814d37ca651dd94a",
       "version_major": 2,
       "version_minor": 0
      },
      "text/plain": [
       "  0%|          | 0/142 [00:00<?, ?it/s]"
      ]
     },
     "metadata": {},
     "output_type": "display_data"
    },
    {
     "name": "stdout",
     "output_type": "stream",
     "text": [
      "   25 |     0.2537 |    0.3867 |   0.9756 |    0.9764 *\n"
     ]
    },
    {
     "data": {
      "application/vnd.jupyter.widget-view+json": {
       "model_id": "3c35dad40db94729bcfa7bbd92f19ba4",
       "version_major": 2,
       "version_minor": 0
      },
      "text/plain": [
       "  0%|          | 0/142 [00:00<?, ?it/s]"
      ]
     },
     "metadata": {},
     "output_type": "display_data"
    },
    {
     "name": "stdout",
     "output_type": "stream",
     "text": [
      "   26 |     0.2426 |    0.3865 |   0.9756 |    0.9766 *\n"
     ]
    },
    {
     "data": {
      "application/vnd.jupyter.widget-view+json": {
       "model_id": "707e0cd441264ebf967cf850d0035997",
       "version_major": 2,
       "version_minor": 0
      },
      "text/plain": [
       "  0%|          | 0/142 [00:00<?, ?it/s]"
      ]
     },
     "metadata": {},
     "output_type": "display_data"
    },
    {
     "name": "stdout",
     "output_type": "stream",
     "text": [
      "   27 |     0.2421 |    0.3856 |   0.9772 |    0.9780 *\n"
     ]
    },
    {
     "data": {
      "application/vnd.jupyter.widget-view+json": {
       "model_id": "af989c0a5da444fc96f900d732d540ef",
       "version_major": 2,
       "version_minor": 0
      },
      "text/plain": [
       "  0%|          | 0/142 [00:00<?, ?it/s]"
      ]
     },
     "metadata": {},
     "output_type": "display_data"
    },
    {
     "name": "stdout",
     "output_type": "stream",
     "text": [
      "   28 |     0.2404 |    0.3859 |   0.9764 |    0.9768\n"
     ]
    },
    {
     "data": {
      "application/vnd.jupyter.widget-view+json": {
       "model_id": "1c6db0dd8b6a41ef882b7df3babee79f",
       "version_major": 2,
       "version_minor": 0
      },
      "text/plain": [
       "  0%|          | 0/142 [00:00<?, ?it/s]"
      ]
     },
     "metadata": {},
     "output_type": "display_data"
    },
    {
     "name": "stdout",
     "output_type": "stream",
     "text": [
      "   29 |     0.2343 |    0.3858 |   0.9764 |    0.9773\n"
     ]
    },
    {
     "data": {
      "application/vnd.jupyter.widget-view+json": {
       "model_id": "6ad191b6565d41eea8c35f6074ef2aaa",
       "version_major": 2,
       "version_minor": 0
      },
      "text/plain": [
       "  0%|          | 0/142 [00:00<?, ?it/s]"
      ]
     },
     "metadata": {},
     "output_type": "display_data"
    }
   ],
   "source": [
    "\n",
    "\n",
    "for n_layers in tqdm([3,2,4]): \n",
    "    for target_params in tqdm([100_000,500_000,1_000_000]): \n",
    "        print(n_layers, target_params)\n",
    "        # Find out the hyperparameteres yielding #params = target_params\n",
    "        def objective(h):\n",
    "            return count_parameters(InteractionNetwork(int(h),n_layers)) - target_params\n",
    "        optimal_h = int(root_scalar(objective, bracket=[1, 3000], method='bisect').root)\n",
    "        optimal_h= pd.Series({optimal_h:target_params-count_parameters(InteractionNetwork(optimal_h, n_layers)),\n",
    "                    optimal_h-1:target_params-count_parameters(InteractionNetwork(optimal_h-1,n_layers)),\n",
    "                    optimal_h+1:target_params-count_parameters(InteractionNetwork(optimal_h+1,n_layers))}).abs().idxmin()\n",
    "        \n",
    "        model = InteractionNetwork(optimal_h,n_layers).to(device)\n",
    "        lr = LR\n",
    "        optimizer = optim.Adam(model.parameters(), lr=LR)\n",
    "        best_val_loss = float('inf')\n",
    "        epochs_no_improve, epochs_no_improve2 = 0,0\n",
    "        best_model_state = None\n",
    "        stats = []\n",
    "        best = None\n",
    "        # Print header once\n",
    "        print(f\"{'Epoch':>5} | {'Train Loss':>10} | {'Val Loss':>9} | {'Val Acc':>8} | {'Test Acc':>9}\")\n",
    "        print(\"-\" * 50)\n",
    "        for epoch in trange(MAX_EPOCHS):\n",
    "            train_loss = train_epoch(model, loader_train)   \n",
    "            preds_val, actuals_val, acc_val, val_loss = evaluate(model,loader_val)\n",
    "            preds_test, actuals_test, acc_test, test_loss = evaluate(model,loader_test)\n",
    "            \n",
    "            stats.append({'train_loss':train_loss, 'val_loss':val_loss, 'acc_val':acc_val, 'acc_test':acc_test})\n",
    "            if val_loss < best_val_loss: \n",
    "                print(f\"{epoch+1:5d} | {train_loss:10.4f} | {val_loss:9.4f} | {acc_val:8.4f} | {acc_test:9.4f} *\")\n",
    "                best_val_loss = val_loss\n",
    "                epochs_no_improve = 0\n",
    "                epochs_no_improve2 = 0\n",
    "                best = {'model_state': {k: v.cpu() for k, v in model.state_dict().items()},\n",
    "                        'preds_test':preds_test, 'preds_val':preds_val}        \n",
    "            else:\n",
    "                print(f\"{epoch+1:5d} | {train_loss:10.4f} | {val_loss:9.4f} | {acc_val:8.4f} | {acc_test:9.4f}\")\n",
    "                epochs_no_improve += 1\n",
    "                epochs_no_improve2 += 1\n",
    "        \n",
    "            if epochs_no_improve >= TOLERANCE:\n",
    "                print(f\"Early stopping at epoch {epoch+1}\")\n",
    "                break\n",
    "            if epochs_no_improve2 >= LR_TOLERANCE:\n",
    "                lr/=10\n",
    "                print(f\"LR reduction to {lr}\")\n",
    "        joblib.dump(best, os.path.join(PATH_DATA, f\"{n_layers}_{target_params}.pkl\"))\n",
    "        \n",
    "        stats = pd.DataFrame(stats)\n",
    "        stats[['train_loss','val_loss']].plot(figsize = (15,4))\n",
    "        plt.show()\n",
    "        stats[['acc_val','acc_test']].plot(figsize = (15,4))\n",
    "        plt.show()"
   ]
  }
 ],
 "metadata": {
  "kernelspec": {
   "display_name": "forex",
   "language": "python",
   "name": "forex"
  },
  "language_info": {
   "codemirror_mode": {
    "name": "ipython",
    "version": 3
   },
   "file_extension": ".py",
   "mimetype": "text/x-python",
   "name": "python",
   "nbconvert_exporter": "python",
   "pygments_lexer": "ipython3",
   "version": "3.11.11"
  },
  "widgets": {
   "application/vnd.jupyter.widget-state+json": {
    "state": {
     "0012c966c9114e04b6e2fa4a9f5485ef": {
      "model_module": "@jupyter-widgets/controls",
      "model_module_version": "2.0.0",
      "model_name": "FloatProgressModel",
      "state": {
       "layout": "IPY_MODEL_eb9517c4dd014e3293dd007fdeb6c8e0",
       "max": 142,
       "style": "IPY_MODEL_8d0936221a7542e8b0557053775e8060",
       "value": 54
      }
     },
     "021d226d80d54bf5b650002202b1fe28": {
      "model_module": "@jupyter-widgets/base",
      "model_module_version": "2.0.0",
      "model_name": "LayoutModel",
      "state": {}
     },
     "02fb8a66bb4841b8a020763117ed19e7": {
      "model_module": "@jupyter-widgets/controls",
      "model_module_version": "2.0.0",
      "model_name": "HTMLStyleModel",
      "state": {
       "description_width": "",
       "font_size": null,
       "text_color": null
      }
     },
     "031944a96ce248c4943b34283a491b64": {
      "model_module": "@jupyter-widgets/base",
      "model_module_version": "2.0.0",
      "model_name": "LayoutModel",
      "state": {}
     },
     "066971c30d394e09a0103c5d0774f905": {
      "model_module": "@jupyter-widgets/base",
      "model_module_version": "2.0.0",
      "model_name": "LayoutModel",
      "state": {}
     },
     "06b127436fb449adbb205b5689a85f34": {
      "model_module": "@jupyter-widgets/base",
      "model_module_version": "2.0.0",
      "model_name": "LayoutModel",
      "state": {}
     },
     "07b2c3ecd2914bd9b218e921648e1375": {
      "model_module": "@jupyter-widgets/base",
      "model_module_version": "2.0.0",
      "model_name": "LayoutModel",
      "state": {}
     },
     "07f0c052c5524033afef201f3231952e": {
      "model_module": "@jupyter-widgets/base",
      "model_module_version": "2.0.0",
      "model_name": "LayoutModel",
      "state": {}
     },
     "085c0303c01f4934b52d0b6c30451b15": {
      "model_module": "@jupyter-widgets/controls",
      "model_module_version": "2.0.0",
      "model_name": "FloatProgressModel",
      "state": {
       "layout": "IPY_MODEL_223e1d64e79d4b3c9a24613441971307",
       "max": 142,
       "style": "IPY_MODEL_6a876d8a880b4994bc86d5ac5fc9b36b",
       "value": 142
      }
     },
     "08fa6037d0284991b3caf07c9432fa41": {
      "model_module": "@jupyter-widgets/base",
      "model_module_version": "2.0.0",
      "model_name": "LayoutModel",
      "state": {}
     },
     "0a16530c892c4fe4a25d5d95a971b2b1": {
      "model_module": "@jupyter-widgets/controls",
      "model_module_version": "2.0.0",
      "model_name": "FloatProgressModel",
      "state": {
       "layout": "IPY_MODEL_296ca73354304555830788b8f4d8cefd",
       "max": 142,
       "style": "IPY_MODEL_95adc923aa1740f79b3a75e90f3fd576",
       "value": 142
      }
     },
     "0a951f1447f14a198076e5fd22623af6": {
      "model_module": "@jupyter-widgets/base",
      "model_module_version": "2.0.0",
      "model_name": "LayoutModel",
      "state": {}
     },
     "0b186d1ae31a4379ba42e080bd22db66": {
      "model_module": "@jupyter-widgets/controls",
      "model_module_version": "2.0.0",
      "model_name": "FloatProgressModel",
      "state": {
       "layout": "IPY_MODEL_8849310976194b22bc3e38ced8e5a8e2",
       "max": 142,
       "style": "IPY_MODEL_b55bcab3324d4470b099aeac487b9d72",
       "value": 142
      }
     },
     "0b50fa44e27b4a9d96a67172626a08b0": {
      "model_module": "@jupyter-widgets/base",
      "model_module_version": "2.0.0",
      "model_name": "LayoutModel",
      "state": {
       "visibility": "hidden"
      }
     },
     "0c56da5fb70c4d9fb712d9ddd6df6386": {
      "model_module": "@jupyter-widgets/base",
      "model_module_version": "2.0.0",
      "model_name": "LayoutModel",
      "state": {}
     },
     "0ccd19964c31405e9df71586f156e4e9": {
      "model_module": "@jupyter-widgets/controls",
      "model_module_version": "2.0.0",
      "model_name": "HTMLModel",
      "state": {
       "layout": "IPY_MODEL_031944a96ce248c4943b34283a491b64",
       "style": "IPY_MODEL_44afedbbd91c48e0a417355b67965ee4",
       "value": " 95%"
      }
     },
     "0d7481000a1144feb8b1f5190d134cf7": {
      "model_module": "@jupyter-widgets/controls",
      "model_module_version": "2.0.0",
      "model_name": "ProgressStyleModel",
      "state": {
       "description_width": ""
      }
     },
     "0dfc0c69fbb145888becc8531c319132": {
      "model_module": "@jupyter-widgets/controls",
      "model_module_version": "2.0.0",
      "model_name": "HTMLStyleModel",
      "state": {
       "description_width": "",
       "font_size": null,
       "text_color": null
      }
     },
     "0eb7bb2141314a8aa29d1ea0cdde4506": {
      "model_module": "@jupyter-widgets/controls",
      "model_module_version": "2.0.0",
      "model_name": "HTMLModel",
      "state": {
       "layout": "IPY_MODEL_99bf06fc9ce24d65a2bb42f76e480187",
       "style": "IPY_MODEL_a0a3d6fc1a8b4e289a395be2926c3e6a",
       "value": " 135/142 [00:01&lt;00:00, 69.77it/s]"
      }
     },
     "10a252523aab4dd3909ee779e75f1f37": {
      "model_module": "@jupyter-widgets/base",
      "model_module_version": "2.0.0",
      "model_name": "LayoutModel",
      "state": {}
     },
     "113a0297355e49b3b719e9d821aab158": {
      "model_module": "@jupyter-widgets/controls",
      "model_module_version": "2.0.0",
      "model_name": "ProgressStyleModel",
      "state": {
       "description_width": ""
      }
     },
     "117aeead94a043068766005032ec49d0": {
      "model_module": "@jupyter-widgets/base",
      "model_module_version": "2.0.0",
      "model_name": "LayoutModel",
      "state": {}
     },
     "11ae819d34d74076af6bb601f2f9933f": {
      "model_module": "@jupyter-widgets/controls",
      "model_module_version": "2.0.0",
      "model_name": "HTMLStyleModel",
      "state": {
       "description_width": "",
       "font_size": null,
       "text_color": null
      }
     },
     "11e6650876da41e0a05413958de02fac": {
      "model_module": "@jupyter-widgets/controls",
      "model_module_version": "2.0.0",
      "model_name": "HTMLModel",
      "state": {
       "layout": "IPY_MODEL_dc4c1c98a74b41cca13ebecbbed2caa6",
       "style": "IPY_MODEL_f004f4593bf34ad2903d713e2b3aa8c9",
       "value": " 95%"
      }
     },
     "11ea634445aa4832b5ccca5adba11a39": {
      "model_module": "@jupyter-widgets/controls",
      "model_module_version": "2.0.0",
      "model_name": "HTMLModel",
      "state": {
       "layout": "IPY_MODEL_0a951f1447f14a198076e5fd22623af6",
       "style": "IPY_MODEL_e6ad4dfa23aa4ae39faeb800db447165",
       "value": " 14%"
      }
     },
     "1357ed11b3b84feaa36121735be7cc2e": {
      "model_module": "@jupyter-widgets/controls",
      "model_module_version": "2.0.0",
      "model_name": "HTMLModel",
      "state": {
       "layout": "IPY_MODEL_60b2afe6520d4461beed7101bc842858",
       "style": "IPY_MODEL_d157568345264d14af31b523cb434f21",
       "value": " 99%"
      }
     },
     "15856ff56bae4979a04a10aeef8a3de9": {
      "model_module": "@jupyter-widgets/controls",
      "model_module_version": "2.0.0",
      "model_name": "HTMLStyleModel",
      "state": {
       "description_width": "",
       "font_size": null,
       "text_color": null
      }
     },
     "171b9782d73149dcbfbf4201dd25421e": {
      "model_module": "@jupyter-widgets/base",
      "model_module_version": "2.0.0",
      "model_name": "LayoutModel",
      "state": {}
     },
     "17744e4c3f254c5d8d01cde743b7bcd8": {
      "model_module": "@jupyter-widgets/controls",
      "model_module_version": "2.0.0",
      "model_name": "HTMLStyleModel",
      "state": {
       "description_width": "",
       "font_size": null,
       "text_color": null
      }
     },
     "1793b2bed8c54c1aa7ff9689a5726da2": {
      "model_module": "@jupyter-widgets/controls",
      "model_module_version": "2.0.0",
      "model_name": "HTMLModel",
      "state": {
       "layout": "IPY_MODEL_47e543a882244424825097a6d8484fe3",
       "style": "IPY_MODEL_21bc105bdb0f4684a1f191db6b4c6bce",
       "value": " 135/142 [00:01&lt;00:00, 68.11it/s]"
      }
     },
     "1857688709c54f97b2a947f86950d754": {
      "model_module": "@jupyter-widgets/controls",
      "model_module_version": "2.0.0",
      "model_name": "HTMLStyleModel",
      "state": {
       "description_width": "",
       "font_size": null,
       "text_color": null
      }
     },
     "18fe59c034c04dfc8259337de4836254": {
      "model_module": "@jupyter-widgets/controls",
      "model_module_version": "2.0.0",
      "model_name": "HTMLStyleModel",
      "state": {
       "description_width": "",
       "font_size": null,
       "text_color": null
      }
     },
     "19b96eff766d42a4b13665821717681c": {
      "model_module": "@jupyter-widgets/controls",
      "model_module_version": "2.0.0",
      "model_name": "ProgressStyleModel",
      "state": {
       "description_width": ""
      }
     },
     "1aabe43fe8d441b7accc20eb7777b60e": {
      "model_module": "@jupyter-widgets/base",
      "model_module_version": "2.0.0",
      "model_name": "LayoutModel",
      "state": {
       "visibility": "hidden"
      }
     },
     "1d0d6b71245c42e8802fb95f16ef38f9": {
      "model_module": "@jupyter-widgets/controls",
      "model_module_version": "2.0.0",
      "model_name": "HTMLModel",
      "state": {
       "layout": "IPY_MODEL_9b8e6e5a23474b3b91d3853957ab3a06",
       "style": "IPY_MODEL_d17610a0e41b410cbe31677ac8a17862",
       "value": "100%"
      }
     },
     "1e5880e642904a638cf98e9d9a7acc4f": {
      "model_module": "@jupyter-widgets/controls",
      "model_module_version": "2.0.0",
      "model_name": "HTMLModel",
      "state": {
       "layout": "IPY_MODEL_07b2c3ecd2914bd9b218e921648e1375",
       "style": "IPY_MODEL_3f669670f5994adc9f9a9e26e3233c5d",
       "value": " 138/142 [00:02&lt;00:00, 67.34it/s]"
      }
     },
     "1e59830ebd1049258372949b5d91b273": {
      "model_module": "@jupyter-widgets/base",
      "model_module_version": "2.0.0",
      "model_name": "LayoutModel",
      "state": {}
     },
     "1ea9ae19760d4c40b6777f52fa1eb976": {
      "model_module": "@jupyter-widgets/controls",
      "model_module_version": "2.0.0",
      "model_name": "HTMLModel",
      "state": {
       "layout": "IPY_MODEL_792f25a358804f9497c120280630c66e",
       "style": "IPY_MODEL_0dfc0c69fbb145888becc8531c319132",
       "value": " 0/3 [00:00&lt;?, ?it/s]"
      }
     },
     "1ef62ab1601b4f20a7bf4fc5dd990829": {
      "model_module": "@jupyter-widgets/base",
      "model_module_version": "2.0.0",
      "model_name": "LayoutModel",
      "state": {}
     },
     "1f6a9211fa3245c3ab7dff836dcc81b9": {
      "model_module": "@jupyter-widgets/controls",
      "model_module_version": "2.0.0",
      "model_name": "HTMLModel",
      "state": {
       "layout": "IPY_MODEL_720034c95f9f443faba3cf5119911d08",
       "style": "IPY_MODEL_616f67ffa3ae44e2973ac1848a1bacfc",
       "value": "  0%"
      }
     },
     "202867ce873f4659ac305fc36989753e": {
      "model_module": "@jupyter-widgets/base",
      "model_module_version": "2.0.0",
      "model_name": "LayoutModel",
      "state": {}
     },
     "209176a5a1b241f79dab8bdd16cfd1b9": {
      "model_module": "@jupyter-widgets/controls",
      "model_module_version": "2.0.0",
      "model_name": "FloatProgressModel",
      "state": {
       "layout": "IPY_MODEL_414bac75371b4315b441c27eff5d21ea",
       "max": 142,
       "style": "IPY_MODEL_514c5572424b43eab5748a5ba44eec82",
       "value": 142
      }
     },
     "21a025922cc9452c87d55681cec32735": {
      "model_module": "@jupyter-widgets/base",
      "model_module_version": "2.0.0",
      "model_name": "LayoutModel",
      "state": {}
     },
     "21bc105bdb0f4684a1f191db6b4c6bce": {
      "model_module": "@jupyter-widgets/controls",
      "model_module_version": "2.0.0",
      "model_name": "HTMLStyleModel",
      "state": {
       "description_width": "",
       "font_size": null,
       "text_color": null
      }
     },
     "223e1d64e79d4b3c9a24613441971307": {
      "model_module": "@jupyter-widgets/base",
      "model_module_version": "2.0.0",
      "model_name": "LayoutModel",
      "state": {}
     },
     "22a3a17c7056425a8b18866139363257": {
      "model_module": "@jupyter-widgets/controls",
      "model_module_version": "2.0.0",
      "model_name": "HTMLStyleModel",
      "state": {
       "description_width": "",
       "font_size": null,
       "text_color": null
      }
     },
     "22d62d87f55045db8ea044e96784a4d5": {
      "model_module": "@jupyter-widgets/base",
      "model_module_version": "2.0.0",
      "model_name": "LayoutModel",
      "state": {}
     },
     "22e76e86091647908dc7da90753a109d": {
      "model_module": "@jupyter-widgets/controls",
      "model_module_version": "2.0.0",
      "model_name": "FloatProgressModel",
      "state": {
       "layout": "IPY_MODEL_d07c42ef7fed48959c2f9ddac4704122",
       "max": 142,
       "style": "IPY_MODEL_67a9a494980b4790bc94410706e5949d",
       "value": 142
      }
     },
     "230e311527f748f587f4cbb59e5637a1": {
      "model_module": "@jupyter-widgets/controls",
      "model_module_version": "2.0.0",
      "model_name": "ProgressStyleModel",
      "state": {
       "description_width": ""
      }
     },
     "24f71ceb2446460081f228b12b1fe593": {
      "model_module": "@jupyter-widgets/controls",
      "model_module_version": "2.0.0",
      "model_name": "HTMLStyleModel",
      "state": {
       "description_width": "",
       "font_size": null,
       "text_color": null
      }
     },
     "2507d7863d2e4ba8893740dbb091bbea": {
      "model_module": "@jupyter-widgets/base",
      "model_module_version": "2.0.0",
      "model_name": "LayoutModel",
      "state": {}
     },
     "2514baf0a38a4156a927fc358da14984": {
      "model_module": "@jupyter-widgets/base",
      "model_module_version": "2.0.0",
      "model_name": "LayoutModel",
      "state": {}
     },
     "27104f23df0f41edb234ff732b806b59": {
      "model_module": "@jupyter-widgets/base",
      "model_module_version": "2.0.0",
      "model_name": "LayoutModel",
      "state": {}
     },
     "27d106d9b5cd439a8981d0442d9bf913": {
      "model_module": "@jupyter-widgets/controls",
      "model_module_version": "2.0.0",
      "model_name": "HTMLStyleModel",
      "state": {
       "description_width": "",
       "font_size": null,
       "text_color": null
      }
     },
     "2836e26bfdba4d739f4e2f5221e95574": {
      "model_module": "@jupyter-widgets/controls",
      "model_module_version": "2.0.0",
      "model_name": "ProgressStyleModel",
      "state": {
       "description_width": ""
      }
     },
     "296ca73354304555830788b8f4d8cefd": {
      "model_module": "@jupyter-widgets/base",
      "model_module_version": "2.0.0",
      "model_name": "LayoutModel",
      "state": {}
     },
     "2a58ef45f4224165bed6ab9055912951": {
      "model_module": "@jupyter-widgets/controls",
      "model_module_version": "2.0.0",
      "model_name": "HTMLModel",
      "state": {
       "layout": "IPY_MODEL_2a60236156a5490b96e018d52b924280",
       "style": "IPY_MODEL_4225e2530e8245158e45a5ec7ceb8b95",
       "value": " 141/142 [00:02&lt;00:00, 71.88it/s]"
      }
     },
     "2a60236156a5490b96e018d52b924280": {
      "model_module": "@jupyter-widgets/base",
      "model_module_version": "2.0.0",
      "model_name": "LayoutModel",
      "state": {}
     },
     "2b5d2980e660492cb01fcb00f0ab6973": {
      "model_module": "@jupyter-widgets/controls",
      "model_module_version": "2.0.0",
      "model_name": "HTMLModel",
      "state": {
       "layout": "IPY_MODEL_d281baaa41394a73b36fb76d8bfc587c",
       "style": "IPY_MODEL_86e95f264c1b428fad0fd53691834b0a",
       "value": " 99%"
      }
     },
     "2d1ac30a07bb4706a21f814889b7da26": {
      "model_module": "@jupyter-widgets/base",
      "model_module_version": "2.0.0",
      "model_name": "LayoutModel",
      "state": {}
     },
     "2d534ba721554ecd968aaf03ff4bd73d": {
      "model_module": "@jupyter-widgets/controls",
      "model_module_version": "2.0.0",
      "model_name": "HTMLModel",
      "state": {
       "layout": "IPY_MODEL_beeb5aca0f624fb1bdb21321d3791b93",
       "style": "IPY_MODEL_63336b00a15f4c4fb2a961f343b40535",
       "value": " 140/142 [00:02&lt;00:00, 71.55it/s]"
      }
     },
     "2dc0d5813d1f449eb76830cfa6460d49": {
      "model_module": "@jupyter-widgets/controls",
      "model_module_version": "2.0.0",
      "model_name": "HTMLModel",
      "state": {
       "layout": "IPY_MODEL_e6040941260f4a88b69e86359caf4c78",
       "style": "IPY_MODEL_fb5147f1c7af4d5f81855fdfbd015f1f",
       "value": " 140/142 [00:02&lt;00:00, 67.89it/s]"
      }
     },
     "2ee2e1d5314e4fd8869066d068eaff29": {
      "model_module": "@jupyter-widgets/controls",
      "model_module_version": "2.0.0",
      "model_name": "HTMLModel",
      "state": {
       "layout": "IPY_MODEL_cd3f675b5cbd4a298100a57f6603e15e",
       "style": "IPY_MODEL_6f1dad8387e747aaa1182d23b5b738f6",
       "value": " 135/142 [00:01&lt;00:00, 67.89it/s]"
      }
     },
     "30d3ad43ff304be79fc0a5dda53d8a67": {
      "model_module": "@jupyter-widgets/base",
      "model_module_version": "2.0.0",
      "model_name": "LayoutModel",
      "state": {}
     },
     "327d74b11fc140eab7aca6314bee970c": {
      "model_module": "@jupyter-widgets/controls",
      "model_module_version": "2.0.0",
      "model_name": "HTMLModel",
      "state": {
       "layout": "IPY_MODEL_77af5692a9904451acf47a61d02b826d",
       "style": "IPY_MODEL_6186fe75b2234196b6eeae86da6718ec",
       "value": " 95%"
      }
     },
     "34db0a7df4964a6e80208ec5ffb6c7ee": {
      "model_module": "@jupyter-widgets/controls",
      "model_module_version": "2.0.0",
      "model_name": "HTMLModel",
      "state": {
       "layout": "IPY_MODEL_da7181f12b344d0f8e7a07ba40cabaac",
       "style": "IPY_MODEL_59ddb5e3fc05414198600217c9c9e0e8",
       "value": " 99%"
      }
     },
     "34f7122fbfc448ac8e461eefc62b3fc3": {
      "model_module": "@jupyter-widgets/base",
      "model_module_version": "2.0.0",
      "model_name": "LayoutModel",
      "state": {}
     },
     "35362615af9a43d99979f7befbf6062f": {
      "model_module": "@jupyter-widgets/base",
      "model_module_version": "2.0.0",
      "model_name": "LayoutModel",
      "state": {}
     },
     "3558f037e2134e3d93a9efab7d549f97": {
      "model_module": "@jupyter-widgets/controls",
      "model_module_version": "2.0.0",
      "model_name": "HTMLStyleModel",
      "state": {
       "description_width": "",
       "font_size": null,
       "text_color": null
      }
     },
     "357cfa0c444f429dadf22068ba669fcd": {
      "model_module": "@jupyter-widgets/controls",
      "model_module_version": "2.0.0",
      "model_name": "HTMLModel",
      "state": {
       "layout": "IPY_MODEL_35362615af9a43d99979f7befbf6062f",
       "style": "IPY_MODEL_d52ff20449504286a4891ec816590259",
       "value": " 99%"
      }
     },
     "375e06fa9d5c4c40824f1f83d1fe537d": {
      "model_module": "@jupyter-widgets/controls",
      "model_module_version": "2.0.0",
      "model_name": "HTMLModel",
      "state": {
       "layout": "IPY_MODEL_d74eeda6fa08401ca88d02b6ff214069",
       "style": "IPY_MODEL_24f71ceb2446460081f228b12b1fe593",
       "value": " 95%"
      }
     },
     "37936f7597de493bb3d4e3af942e874d": {
      "model_module": "@jupyter-widgets/controls",
      "model_module_version": "2.0.0",
      "model_name": "ProgressStyleModel",
      "state": {
       "description_width": ""
      }
     },
     "39831952c31d4450a754bae22bde73d4": {
      "model_module": "@jupyter-widgets/base",
      "model_module_version": "2.0.0",
      "model_name": "LayoutModel",
      "state": {}
     },
     "3a357e8d716040dbab5481ffbe9f0b8d": {
      "model_module": "@jupyter-widgets/controls",
      "model_module_version": "2.0.0",
      "model_name": "FloatProgressModel",
      "state": {
       "layout": "IPY_MODEL_202867ce873f4659ac305fc36989753e",
       "max": 3,
       "style": "IPY_MODEL_b803831334f84dbb9157115184643bde"
      }
     },
     "3b069d3483894aa49fea948ff8bb4679": {
      "model_module": "@jupyter-widgets/controls",
      "model_module_version": "2.0.0",
      "model_name": "HTMLStyleModel",
      "state": {
       "description_width": "",
       "font_size": null,
       "text_color": null
      }
     },
     "3b70f826d3944513824d8dc96ac380a6": {
      "model_module": "@jupyter-widgets/controls",
      "model_module_version": "2.0.0",
      "model_name": "ProgressStyleModel",
      "state": {
       "description_width": ""
      }
     },
     "3c336084c5494e15befce0545b1add61": {
      "model_module": "@jupyter-widgets/base",
      "model_module_version": "2.0.0",
      "model_name": "LayoutModel",
      "state": {}
     },
     "3e09aaa5c53c4b70814811b800aa80fc": {
      "model_module": "@jupyter-widgets/base",
      "model_module_version": "2.0.0",
      "model_name": "LayoutModel",
      "state": {
       "visibility": "hidden"
      }
     },
     "3f4077339d5b434f955430bc7bc5bdeb": {
      "model_module": "@jupyter-widgets/base",
      "model_module_version": "2.0.0",
      "model_name": "LayoutModel",
      "state": {
       "visibility": "hidden"
      }
     },
     "3f669670f5994adc9f9a9e26e3233c5d": {
      "model_module": "@jupyter-widgets/controls",
      "model_module_version": "2.0.0",
      "model_name": "HTMLStyleModel",
      "state": {
       "description_width": "",
       "font_size": null,
       "text_color": null
      }
     },
     "40c7d67b09fd4a08990ec72cccaec725": {
      "model_module": "@jupyter-widgets/controls",
      "model_module_version": "2.0.0",
      "model_name": "HBoxModel",
      "state": {
       "children": [
        "IPY_MODEL_4fa12bc1c77f46acb1f47c78741c7686",
        "IPY_MODEL_3a357e8d716040dbab5481ffbe9f0b8d",
        "IPY_MODEL_1ea9ae19760d4c40b6777f52fa1eb976"
       ],
       "layout": "IPY_MODEL_171b9782d73149dcbfbf4201dd25421e"
      }
     },
     "40fe39003d4149d992a8b647747c0b0f": {
      "model_module": "@jupyter-widgets/controls",
      "model_module_version": "2.0.0",
      "model_name": "HTMLStyleModel",
      "state": {
       "description_width": "",
       "font_size": null,
       "text_color": null
      }
     },
     "414bac75371b4315b441c27eff5d21ea": {
      "model_module": "@jupyter-widgets/base",
      "model_module_version": "2.0.0",
      "model_name": "LayoutModel",
      "state": {}
     },
     "41bce32c8642490c85a37c5d3659b2db": {
      "model_module": "@jupyter-widgets/base",
      "model_module_version": "2.0.0",
      "model_name": "LayoutModel",
      "state": {}
     },
     "41c6e5e4434340f3b70f0347309b53dd": {
      "model_module": "@jupyter-widgets/base",
      "model_module_version": "2.0.0",
      "model_name": "LayoutModel",
      "state": {}
     },
     "4225e2530e8245158e45a5ec7ceb8b95": {
      "model_module": "@jupyter-widgets/controls",
      "model_module_version": "2.0.0",
      "model_name": "HTMLStyleModel",
      "state": {
       "description_width": "",
       "font_size": null,
       "text_color": null
      }
     },
     "44afedbbd91c48e0a417355b67965ee4": {
      "model_module": "@jupyter-widgets/controls",
      "model_module_version": "2.0.0",
      "model_name": "HTMLStyleModel",
      "state": {
       "description_width": "",
       "font_size": null,
       "text_color": null
      }
     },
     "4591546c1ba342c2a67d4d4fb8697a88": {
      "model_module": "@jupyter-widgets/controls",
      "model_module_version": "2.0.0",
      "model_name": "HTMLModel",
      "state": {
       "layout": "IPY_MODEL_57dd29f1c26b4d3097cc775b2347745e",
       "style": "IPY_MODEL_e9af61b8794144f8b6237b3611e416d1",
       "value": " 96%"
      }
     },
     "45ff9d939fa64d6a94b240f05632f56a": {
      "model_module": "@jupyter-widgets/base",
      "model_module_version": "2.0.0",
      "model_name": "LayoutModel",
      "state": {}
     },
     "47567d089af24a7e9a6c76cb2ae7a428": {
      "model_module": "@jupyter-widgets/base",
      "model_module_version": "2.0.0",
      "model_name": "LayoutModel",
      "state": {
       "visibility": "hidden"
      }
     },
     "4756f3d48b364da99dcba746db497ebe": {
      "model_module": "@jupyter-widgets/controls",
      "model_module_version": "2.0.0",
      "model_name": "ProgressStyleModel",
      "state": {
       "description_width": ""
      }
     },
     "47e543a882244424825097a6d8484fe3": {
      "model_module": "@jupyter-widgets/base",
      "model_module_version": "2.0.0",
      "model_name": "LayoutModel",
      "state": {}
     },
     "4892c4c75e6b46279f4fff6fd3de83d5": {
      "model_module": "@jupyter-widgets/base",
      "model_module_version": "2.0.0",
      "model_name": "LayoutModel",
      "state": {}
     },
     "4d7ce2fe9a1d4836adb6d39ff8cf34bf": {
      "model_module": "@jupyter-widgets/controls",
      "model_module_version": "2.0.0",
      "model_name": "ProgressStyleModel",
      "state": {
       "description_width": ""
      }
     },
     "4de6ab29087e44a2b39e1e473ef3a687": {
      "model_module": "@jupyter-widgets/controls",
      "model_module_version": "2.0.0",
      "model_name": "HTMLStyleModel",
      "state": {
       "description_width": "",
       "font_size": null,
       "text_color": null
      }
     },
     "4e7f73c183c54a08854ba5709e66806b": {
      "model_module": "@jupyter-widgets/base",
      "model_module_version": "2.0.0",
      "model_name": "LayoutModel",
      "state": {}
     },
     "4fa12bc1c77f46acb1f47c78741c7686": {
      "model_module": "@jupyter-widgets/controls",
      "model_module_version": "2.0.0",
      "model_name": "HTMLModel",
      "state": {
       "layout": "IPY_MODEL_75202352d26f4bc4964451a8361ae216",
       "style": "IPY_MODEL_17744e4c3f254c5d8d01cde743b7bcd8",
       "value": "  0%"
      }
     },
     "502e0b3f9e694e05a403c9c0afbcda2f": {
      "model_module": "@jupyter-widgets/controls",
      "model_module_version": "2.0.0",
      "model_name": "HTMLModel",
      "state": {
       "layout": "IPY_MODEL_cc3b6e03ad4241189855b9985f466ca2",
       "style": "IPY_MODEL_802d896c02f24a46bacef05c38e88818",
       "value": " 135/142 [00:01&lt;00:00, 70.77it/s]"
      }
     },
     "50910d5ed941400b8120eb8fe7040e52": {
      "model_module": "@jupyter-widgets/controls",
      "model_module_version": "2.0.0",
      "model_name": "HTMLStyleModel",
      "state": {
       "description_width": "",
       "font_size": null,
       "text_color": null
      }
     },
     "50e4b36422174e8583faf8cb92d6d51f": {
      "model_module": "@jupyter-widgets/base",
      "model_module_version": "2.0.0",
      "model_name": "LayoutModel",
      "state": {
       "visibility": "hidden"
      }
     },
     "510bc2e6b87140ec961585348f94ae35": {
      "model_module": "@jupyter-widgets/controls",
      "model_module_version": "2.0.0",
      "model_name": "HTMLModel",
      "state": {
       "layout": "IPY_MODEL_c705359aed714e3ca8686c9a1368dfd5",
       "style": "IPY_MODEL_efbe223cadee498496a4da10e2fc4def",
       "value": " 95%"
      }
     },
     "512308b627264106b44ab9d179e35832": {
      "model_module": "@jupyter-widgets/controls",
      "model_module_version": "2.0.0",
      "model_name": "HTMLModel",
      "state": {
       "layout": "IPY_MODEL_bb4b9746d44a4b998c62b8c8a8d63356",
       "style": "IPY_MODEL_d0a805959923475d9fe8ef896aae5842",
       "value": " 136/142 [00:01&lt;00:00, 69.43it/s]"
      }
     },
     "514c5572424b43eab5748a5ba44eec82": {
      "model_module": "@jupyter-widgets/controls",
      "model_module_version": "2.0.0",
      "model_name": "ProgressStyleModel",
      "state": {
       "description_width": ""
      }
     },
     "5176f811ce154646a7de5e3ce3393555": {
      "model_module": "@jupyter-widgets/base",
      "model_module_version": "2.0.0",
      "model_name": "LayoutModel",
      "state": {
       "visibility": "hidden"
      }
     },
     "5247be443ccb4223acd9d088425e6408": {
      "model_module": "@jupyter-widgets/controls",
      "model_module_version": "2.0.0",
      "model_name": "HTMLModel",
      "state": {
       "layout": "IPY_MODEL_80809795eec6439d9e22774cabb1cc32",
       "style": "IPY_MODEL_b590a508e54946568e8966395cc30049",
       "value": " 97%"
      }
     },
     "52566c1a388e4b0da81533bf645b8534": {
      "model_module": "@jupyter-widgets/controls",
      "model_module_version": "2.0.0",
      "model_name": "HTMLStyleModel",
      "state": {
       "description_width": "",
       "font_size": null,
       "text_color": null
      }
     },
     "5287da00c89c4061b8476f050d6df215": {
      "model_module": "@jupyter-widgets/base",
      "model_module_version": "2.0.0",
      "model_name": "LayoutModel",
      "state": {}
     },
     "52c8bcb33c3948f798b67c4631970674": {
      "model_module": "@jupyter-widgets/controls",
      "model_module_version": "2.0.0",
      "model_name": "HTMLModel",
      "state": {
       "layout": "IPY_MODEL_1ef62ab1601b4f20a7bf4fc5dd990829",
       "style": "IPY_MODEL_9fb22e8f4af8494fae119db6093ef10a",
       "value": " 99%"
      }
     },
     "52dfcc85827f439c8c86ea1b9b308fbe": {
      "model_module": "@jupyter-widgets/base",
      "model_module_version": "2.0.0",
      "model_name": "LayoutModel",
      "state": {}
     },
     "53f331751df540ec94468ecab916ff9a": {
      "model_module": "@jupyter-widgets/base",
      "model_module_version": "2.0.0",
      "model_name": "LayoutModel",
      "state": {}
     },
     "54dfa4f03a0b44c98e5c1b2acc1e3bc7": {
      "model_module": "@jupyter-widgets/controls",
      "model_module_version": "2.0.0",
      "model_name": "FloatProgressModel",
      "state": {
       "layout": "IPY_MODEL_a39ccac3737447d6bc5f4b86922359e4",
       "max": 142,
       "style": "IPY_MODEL_bd576063f1d844ffbc44daa346ce962c",
       "value": 142
      }
     },
     "54f8f1d94cd5455b8cf4515a4596fe40": {
      "model_module": "@jupyter-widgets/base",
      "model_module_version": "2.0.0",
      "model_name": "LayoutModel",
      "state": {}
     },
     "55e5d816dec24249b741e7c692ea4d82": {
      "model_module": "@jupyter-widgets/base",
      "model_module_version": "2.0.0",
      "model_name": "LayoutModel",
      "state": {
       "visibility": "hidden"
      }
     },
     "56ec12257dda45acb3a2fcbcf981368f": {
      "model_module": "@jupyter-widgets/base",
      "model_module_version": "2.0.0",
      "model_name": "LayoutModel",
      "state": {}
     },
     "575417c25d0f4be9a5c119fd9350a851": {
      "model_module": "@jupyter-widgets/controls",
      "model_module_version": "2.0.0",
      "model_name": "FloatProgressModel",
      "state": {
       "layout": "IPY_MODEL_021d226d80d54bf5b650002202b1fe28",
       "max": 142,
       "style": "IPY_MODEL_2836e26bfdba4d739f4e2f5221e95574",
       "value": 142
      }
     },
     "57c8f929489045329c6fa215b1241028": {
      "model_module": "@jupyter-widgets/controls",
      "model_module_version": "2.0.0",
      "model_name": "HTMLModel",
      "state": {
       "layout": "IPY_MODEL_f62de79e03e3468e9922ce30ed1eadc3",
       "style": "IPY_MODEL_f92094b4c1a048b184652e7390dbf8a5",
       "value": " 95%"
      }
     },
     "57dd29f1c26b4d3097cc775b2347745e": {
      "model_module": "@jupyter-widgets/base",
      "model_module_version": "2.0.0",
      "model_name": "LayoutModel",
      "state": {}
     },
     "58499fe4840247afa589071f876d109f": {
      "model_module": "@jupyter-widgets/controls",
      "model_module_version": "2.0.0",
      "model_name": "HTMLStyleModel",
      "state": {
       "description_width": "",
       "font_size": null,
       "text_color": null
      }
     },
     "59650eb591754ba1beb43df8541a1fff": {
      "model_module": "@jupyter-widgets/base",
      "model_module_version": "2.0.0",
      "model_name": "LayoutModel",
      "state": {}
     },
     "59ddb5e3fc05414198600217c9c9e0e8": {
      "model_module": "@jupyter-widgets/controls",
      "model_module_version": "2.0.0",
      "model_name": "HTMLStyleModel",
      "state": {
       "description_width": "",
       "font_size": null,
       "text_color": null
      }
     },
     "5bbfa46d19964194a79b2ad3cbd3c440": {
      "model_module": "@jupyter-widgets/controls",
      "model_module_version": "2.0.0",
      "model_name": "FloatProgressModel",
      "state": {
       "layout": "IPY_MODEL_74e6506c7b7f4f2a81280931b92ac649",
       "max": 142,
       "style": "IPY_MODEL_ca4522c5a3624fcf9aecd22f98219252",
       "value": 142
      }
     },
     "602f09a2488d4c1ba013e530c6d8b416": {
      "model_module": "@jupyter-widgets/controls",
      "model_module_version": "2.0.0",
      "model_name": "HTMLModel",
      "state": {
       "layout": "IPY_MODEL_34f7122fbfc448ac8e461eefc62b3fc3",
       "style": "IPY_MODEL_18fe59c034c04dfc8259337de4836254",
       "value": " 135/142 [00:01&lt;00:00, 71.41it/s]"
      }
     },
     "604a1a6944494ca593076cdceddfe0ae": {
      "model_module": "@jupyter-widgets/base",
      "model_module_version": "2.0.0",
      "model_name": "LayoutModel",
      "state": {}
     },
     "60b2afe6520d4461beed7101bc842858": {
      "model_module": "@jupyter-widgets/base",
      "model_module_version": "2.0.0",
      "model_name": "LayoutModel",
      "state": {}
     },
     "616f67ffa3ae44e2973ac1848a1bacfc": {
      "model_module": "@jupyter-widgets/controls",
      "model_module_version": "2.0.0",
      "model_name": "HTMLStyleModel",
      "state": {
       "description_width": "",
       "font_size": null,
       "text_color": null
      }
     },
     "6186fe75b2234196b6eeae86da6718ec": {
      "model_module": "@jupyter-widgets/controls",
      "model_module_version": "2.0.0",
      "model_name": "HTMLStyleModel",
      "state": {
       "description_width": "",
       "font_size": null,
       "text_color": null
      }
     },
     "61da492d1c1446198acbaee7b8860e90": {
      "model_module": "@jupyter-widgets/controls",
      "model_module_version": "2.0.0",
      "model_name": "HTMLStyleModel",
      "state": {
       "description_width": "",
       "font_size": null,
       "text_color": null
      }
     },
     "62bb55998d344e12923dbe6dc015b5a3": {
      "model_module": "@jupyter-widgets/base",
      "model_module_version": "2.0.0",
      "model_name": "LayoutModel",
      "state": {}
     },
     "630fd048041d4e99a55483229bf0e98c": {
      "model_module": "@jupyter-widgets/controls",
      "model_module_version": "2.0.0",
      "model_name": "HTMLStyleModel",
      "state": {
       "description_width": "",
       "font_size": null,
       "text_color": null
      }
     },
     "63336b00a15f4c4fb2a961f343b40535": {
      "model_module": "@jupyter-widgets/controls",
      "model_module_version": "2.0.0",
      "model_name": "HTMLStyleModel",
      "state": {
       "description_width": "",
       "font_size": null,
       "text_color": null
      }
     },
     "6605afa7f95547d783e5110feca2cd5c": {
      "model_module": "@jupyter-widgets/controls",
      "model_module_version": "2.0.0",
      "model_name": "HTMLModel",
      "state": {
       "layout": "IPY_MODEL_f4dac3c1fc104d4ab039bdd0c20d602b",
       "style": "IPY_MODEL_50910d5ed941400b8120eb8fe7040e52",
       "value": " 135/142 [00:01&lt;00:00, 68.89it/s]"
      }
     },
     "663cb31ff38c4b438e5edf4053edcfc4": {
      "model_module": "@jupyter-widgets/controls",
      "model_module_version": "2.0.0",
      "model_name": "HTMLModel",
      "state": {
       "layout": "IPY_MODEL_c793899b97b24d2690173010eb999a75",
       "style": "IPY_MODEL_f90dac236506466d8bf92aae78d8730b",
       "value": " 142/142 [00:02&lt;00:00, 69.54it/s]"
      }
     },
     "66763cd9c0e74a5fad9a7d58b3aa1618": {
      "model_module": "@jupyter-widgets/base",
      "model_module_version": "2.0.0",
      "model_name": "LayoutModel",
      "state": {}
     },
     "67a9a494980b4790bc94410706e5949d": {
      "model_module": "@jupyter-widgets/controls",
      "model_module_version": "2.0.0",
      "model_name": "ProgressStyleModel",
      "state": {
       "description_width": ""
      }
     },
     "67dbb75925da4934958fdfe98c1cab75": {
      "model_module": "@jupyter-widgets/controls",
      "model_module_version": "2.0.0",
      "model_name": "HTMLModel",
      "state": {
       "layout": "IPY_MODEL_72a43c30cb2447afb8bd2e67584957dc",
       "style": "IPY_MODEL_e29171815d3a4392a6b8fda3eb1d2cda",
       "value": " 99%"
      }
     },
     "684e00c2c9b54e6dbdd9187e4c3f1414": {
      "model_module": "@jupyter-widgets/base",
      "model_module_version": "2.0.0",
      "model_name": "LayoutModel",
      "state": {}
     },
     "68bf3d5da3e6411cb676a58842333af8": {
      "model_module": "@jupyter-widgets/controls",
      "model_module_version": "2.0.0",
      "model_name": "HTMLModel",
      "state": {
       "layout": "IPY_MODEL_39831952c31d4450a754bae22bde73d4",
       "style": "IPY_MODEL_9631406da5174e49b3091390acccdc5d",
       "value": " 99%"
      }
     },
     "690f5e3a6f534787a58cb89c4be10434": {
      "model_module": "@jupyter-widgets/controls",
      "model_module_version": "2.0.0",
      "model_name": "HTMLStyleModel",
      "state": {
       "description_width": "",
       "font_size": null,
       "text_color": null
      }
     },
     "6a064eac6b7f4ea7a2bcced052c3fa7f": {
      "model_module": "@jupyter-widgets/controls",
      "model_module_version": "2.0.0",
      "model_name": "HTMLModel",
      "state": {
       "layout": "IPY_MODEL_6e72d532833649cf91dcb87278ba4770",
       "style": "IPY_MODEL_bcfc2472564949d08210c3a68fd0be83",
       "value": " 140/142 [00:02&lt;00:00, 70.72it/s]"
      }
     },
     "6a434fde1f944d20b183fb70deb4dca8": {
      "model_module": "@jupyter-widgets/controls",
      "model_module_version": "2.0.0",
      "model_name": "FloatProgressModel",
      "state": {
       "layout": "IPY_MODEL_a3640919c8a34083968c26dfdf8ea434",
       "max": 142,
       "style": "IPY_MODEL_37936f7597de493bb3d4e3af942e874d",
       "value": 142
      }
     },
     "6a876d8a880b4994bc86d5ac5fc9b36b": {
      "model_module": "@jupyter-widgets/controls",
      "model_module_version": "2.0.0",
      "model_name": "ProgressStyleModel",
      "state": {
       "description_width": ""
      }
     },
     "6ad191b6565d41eea8c35f6074ef2aaa": {
      "model_module": "@jupyter-widgets/controls",
      "model_module_version": "2.0.0",
      "model_name": "HBoxModel",
      "state": {
       "children": [
        "IPY_MODEL_879d71e3194548ea8016651ee446087a",
        "IPY_MODEL_0012c966c9114e04b6e2fa4a9f5485ef",
        "IPY_MODEL_f5a62d8dc554499d81382c66bc3e36f3"
       ],
       "layout": "IPY_MODEL_41bce32c8642490c85a37c5d3659b2db"
      }
     },
     "6d3d0c2d2d6745c08fbf00a3ccaadbda": {
      "model_module": "@jupyter-widgets/base",
      "model_module_version": "2.0.0",
      "model_name": "LayoutModel",
      "state": {}
     },
     "6e72d532833649cf91dcb87278ba4770": {
      "model_module": "@jupyter-widgets/base",
      "model_module_version": "2.0.0",
      "model_name": "LayoutModel",
      "state": {}
     },
     "6e7efffe130744e8b47bb78ae255f4b5": {
      "model_module": "@jupyter-widgets/controls",
      "model_module_version": "2.0.0",
      "model_name": "HTMLStyleModel",
      "state": {
       "description_width": "",
       "font_size": null,
       "text_color": null
      }
     },
     "6f1dad8387e747aaa1182d23b5b738f6": {
      "model_module": "@jupyter-widgets/controls",
      "model_module_version": "2.0.0",
      "model_name": "HTMLStyleModel",
      "state": {
       "description_width": "",
       "font_size": null,
       "text_color": null
      }
     },
     "70bc650c8f5f4258a123f9c2a83d0095": {
      "model_module": "@jupyter-widgets/controls",
      "model_module_version": "2.0.0",
      "model_name": "HTMLStyleModel",
      "state": {
       "description_width": "",
       "font_size": null,
       "text_color": null
      }
     },
     "7166923824bb4563bd842a0748124606": {
      "model_module": "@jupyter-widgets/base",
      "model_module_version": "2.0.0",
      "model_name": "LayoutModel",
      "state": {}
     },
     "720034c95f9f443faba3cf5119911d08": {
      "model_module": "@jupyter-widgets/base",
      "model_module_version": "2.0.0",
      "model_name": "LayoutModel",
      "state": {}
     },
     "72a43c30cb2447afb8bd2e67584957dc": {
      "model_module": "@jupyter-widgets/base",
      "model_module_version": "2.0.0",
      "model_name": "LayoutModel",
      "state": {}
     },
     "72e51cdc46834349a9165a1782adb8bc": {
      "model_module": "@jupyter-widgets/base",
      "model_module_version": "2.0.0",
      "model_name": "LayoutModel",
      "state": {}
     },
     "735c5474874141f69c726177d6cdaa4a": {
      "model_module": "@jupyter-widgets/base",
      "model_module_version": "2.0.0",
      "model_name": "LayoutModel",
      "state": {
       "visibility": "hidden"
      }
     },
     "73a65f3289df4638b18ed4a933779fdf": {
      "model_module": "@jupyter-widgets/controls",
      "model_module_version": "2.0.0",
      "model_name": "FloatProgressModel",
      "state": {
       "layout": "IPY_MODEL_6d3d0c2d2d6745c08fbf00a3ccaadbda",
       "max": 142,
       "style": "IPY_MODEL_f70c427eaa0444919d9506847fc337eb",
       "value": 142
      }
     },
     "74be1fad465e452ba0c1f26882baf8ec": {
      "model_module": "@jupyter-widgets/controls",
      "model_module_version": "2.0.0",
      "model_name": "HTMLModel",
      "state": {
       "layout": "IPY_MODEL_8490c5c427e343228b7b35b3fc39411b",
       "style": "IPY_MODEL_bb4cd41ecc4548748b292ca538e653f9",
       "value": " 134/142 [00:01&lt;00:00, 67.06it/s]"
      }
     },
     "74c3332c3e2e4d438b0c0765c06acbcd": {
      "model_module": "@jupyter-widgets/base",
      "model_module_version": "2.0.0",
      "model_name": "LayoutModel",
      "state": {
       "visibility": "hidden"
      }
     },
     "74e6506c7b7f4f2a81280931b92ac649": {
      "model_module": "@jupyter-widgets/base",
      "model_module_version": "2.0.0",
      "model_name": "LayoutModel",
      "state": {}
     },
     "75202352d26f4bc4964451a8361ae216": {
      "model_module": "@jupyter-widgets/base",
      "model_module_version": "2.0.0",
      "model_name": "LayoutModel",
      "state": {}
     },
     "76f49d80499048558411337432308f7b": {
      "model_module": "@jupyter-widgets/controls",
      "model_module_version": "2.0.0",
      "model_name": "ProgressStyleModel",
      "state": {
       "description_width": ""
      }
     },
     "77af5692a9904451acf47a61d02b826d": {
      "model_module": "@jupyter-widgets/base",
      "model_module_version": "2.0.0",
      "model_name": "LayoutModel",
      "state": {}
     },
     "792f25a358804f9497c120280630c66e": {
      "model_module": "@jupyter-widgets/base",
      "model_module_version": "2.0.0",
      "model_name": "LayoutModel",
      "state": {}
     },
     "797fae9076ea455883f9d955abd88a9c": {
      "model_module": "@jupyter-widgets/controls",
      "model_module_version": "2.0.0",
      "model_name": "HTMLStyleModel",
      "state": {
       "description_width": "",
       "font_size": null,
       "text_color": null
      }
     },
     "7ae448886d3647678cf33a1c5443d8b5": {
      "model_module": "@jupyter-widgets/controls",
      "model_module_version": "2.0.0",
      "model_name": "HTMLModel",
      "state": {
       "layout": "IPY_MODEL_891f5986e84b424c836b129a2519a000",
       "style": "IPY_MODEL_890f5c90f98b47cfb1a18debfea6d2de",
       "value": " 136/142 [00:01&lt;00:00, 69.54it/s]"
      }
     },
     "7ae66177612c4976a36bf207629a33d9": {
      "model_module": "@jupyter-widgets/controls",
      "model_module_version": "2.0.0",
      "model_name": "HTMLModel",
      "state": {
       "layout": "IPY_MODEL_f3e1b5292ae94340a359409a8518a6c6",
       "style": "IPY_MODEL_1857688709c54f97b2a947f86950d754",
       "value": " 0/3 [00:00&lt;?, ?it/s]"
      }
     },
     "7b58f3e98b944eff8293003a9b302d18": {
      "model_module": "@jupyter-widgets/controls",
      "model_module_version": "2.0.0",
      "model_name": "HTMLModel",
      "state": {
       "layout": "IPY_MODEL_2514baf0a38a4156a927fc358da14984",
       "style": "IPY_MODEL_630fd048041d4e99a55483229bf0e98c",
       "value": " 141/142 [00:02&lt;00:00, 67.56it/s]"
      }
     },
     "7c4be94667144ad6b6eea0c8891c34f3": {
      "model_module": "@jupyter-widgets/base",
      "model_module_version": "2.0.0",
      "model_name": "LayoutModel",
      "state": {
       "visibility": "hidden"
      }
     },
     "7c80296ec06d417e89f9869af13b09e3": {
      "model_module": "@jupyter-widgets/base",
      "model_module_version": "2.0.0",
      "model_name": "LayoutModel",
      "state": {
       "visibility": "hidden"
      }
     },
     "7ce81f01bf264dc3ac392fd3503ea467": {
      "model_module": "@jupyter-widgets/controls",
      "model_module_version": "2.0.0",
      "model_name": "ProgressStyleModel",
      "state": {
       "description_width": ""
      }
     },
     "7e308f78987d42b985145ed544eaa5c1": {
      "model_module": "@jupyter-widgets/base",
      "model_module_version": "2.0.0",
      "model_name": "LayoutModel",
      "state": {
       "visibility": "hidden"
      }
     },
     "802d896c02f24a46bacef05c38e88818": {
      "model_module": "@jupyter-widgets/controls",
      "model_module_version": "2.0.0",
      "model_name": "HTMLStyleModel",
      "state": {
       "description_width": "",
       "font_size": null,
       "text_color": null
      }
     },
     "80809795eec6439d9e22774cabb1cc32": {
      "model_module": "@jupyter-widgets/base",
      "model_module_version": "2.0.0",
      "model_name": "LayoutModel",
      "state": {}
     },
     "80b0d6ed2eb34e13a0b867f9268e4441": {
      "model_module": "@jupyter-widgets/base",
      "model_module_version": "2.0.0",
      "model_name": "LayoutModel",
      "state": {
       "visibility": "hidden"
      }
     },
     "81244aaf0a744071b9037ea52c67dcb6": {
      "model_module": "@jupyter-widgets/controls",
      "model_module_version": "2.0.0",
      "model_name": "FloatProgressModel",
      "state": {
       "layout": "IPY_MODEL_54f8f1d94cd5455b8cf4515a4596fe40",
       "max": 142,
       "style": "IPY_MODEL_bf85162caf194b33bdba369be0d289e0",
       "value": 142
      }
     },
     "813861d85c284378ab11b07c8e15d4f6": {
      "model_module": "@jupyter-widgets/controls",
      "model_module_version": "2.0.0",
      "model_name": "FloatProgressModel",
      "state": {
       "layout": "IPY_MODEL_30d3ad43ff304be79fc0a5dda53d8a67",
       "max": 3,
       "style": "IPY_MODEL_19b96eff766d42a4b13665821717681c"
      }
     },
     "835025374ac8493fa314660ea5585503": {
      "model_module": "@jupyter-widgets/controls",
      "model_module_version": "2.0.0",
      "model_name": "HTMLStyleModel",
      "state": {
       "description_width": "",
       "font_size": null,
       "text_color": null
      }
     },
     "83f07b4399a64ddd84e5dec300dee02b": {
      "model_module": "@jupyter-widgets/controls",
      "model_module_version": "2.0.0",
      "model_name": "HTMLModel",
      "state": {
       "layout": "IPY_MODEL_10a252523aab4dd3909ee779e75f1f37",
       "style": "IPY_MODEL_15856ff56bae4979a04a10aeef8a3de9",
       "value": " 135/142 [00:01&lt;00:00, 69.18it/s]"
      }
     },
     "841ba05fea494fe4abb4732d2828e0bb": {
      "model_module": "@jupyter-widgets/base",
      "model_module_version": "2.0.0",
      "model_name": "LayoutModel",
      "state": {}
     },
     "8490c5c427e343228b7b35b3fc39411b": {
      "model_module": "@jupyter-widgets/base",
      "model_module_version": "2.0.0",
      "model_name": "LayoutModel",
      "state": {}
     },
     "86e95f264c1b428fad0fd53691834b0a": {
      "model_module": "@jupyter-widgets/controls",
      "model_module_version": "2.0.0",
      "model_name": "HTMLStyleModel",
      "state": {
       "description_width": "",
       "font_size": null,
       "text_color": null
      }
     },
     "879d71e3194548ea8016651ee446087a": {
      "model_module": "@jupyter-widgets/controls",
      "model_module_version": "2.0.0",
      "model_name": "HTMLModel",
      "state": {
       "layout": "IPY_MODEL_b30fe147669a42aab237fe07232d4c26",
       "style": "IPY_MODEL_4de6ab29087e44a2b39e1e473ef3a687",
       "value": " 38%"
      }
     },
     "8842ddeb80c14cff8d0084e1a5149848": {
      "model_module": "@jupyter-widgets/controls",
      "model_module_version": "2.0.0",
      "model_name": "HBoxModel",
      "state": {
       "children": [
        "IPY_MODEL_1f6a9211fa3245c3ab7dff836dcc81b9",
        "IPY_MODEL_813861d85c284378ab11b07c8e15d4f6",
        "IPY_MODEL_7ae66177612c4976a36bf207629a33d9"
       ],
       "layout": "IPY_MODEL_904bab2d52d5424881261b0693b5974a"
      }
     },
     "8849310976194b22bc3e38ced8e5a8e2": {
      "model_module": "@jupyter-widgets/base",
      "model_module_version": "2.0.0",
      "model_name": "LayoutModel",
      "state": {}
     },
     "888335426fad4cf9af4d7a5ed64de10c": {
      "model_module": "@jupyter-widgets/base",
      "model_module_version": "2.0.0",
      "model_name": "LayoutModel",
      "state": {}
     },
     "88c1b7401b764aa59f65a2bb9f80f6b2": {
      "model_module": "@jupyter-widgets/controls",
      "model_module_version": "2.0.0",
      "model_name": "HTMLModel",
      "state": {
       "layout": "IPY_MODEL_06b127436fb449adbb205b5689a85f34",
       "style": "IPY_MODEL_6e7efffe130744e8b47bb78ae255f4b5",
       "value": " 99%"
      }
     },
     "890f5c90f98b47cfb1a18debfea6d2de": {
      "model_module": "@jupyter-widgets/controls",
      "model_module_version": "2.0.0",
      "model_name": "HTMLStyleModel",
      "state": {
       "description_width": "",
       "font_size": null,
       "text_color": null
      }
     },
     "891f5986e84b424c836b129a2519a000": {
      "model_module": "@jupyter-widgets/base",
      "model_module_version": "2.0.0",
      "model_name": "LayoutModel",
      "state": {}
     },
     "8a9a82a63291476d8b893ad04e5ea08e": {
      "model_module": "@jupyter-widgets/controls",
      "model_module_version": "2.0.0",
      "model_name": "HTMLModel",
      "state": {
       "layout": "IPY_MODEL_8ef01d4e94d642c68b5134b629d03318",
       "style": "IPY_MODEL_52566c1a388e4b0da81533bf645b8534",
       "value": " 95%"
      }
     },
     "8bbfcc2980714afabf1fd058cc4b4cb2": {
      "model_module": "@jupyter-widgets/base",
      "model_module_version": "2.0.0",
      "model_name": "LayoutModel",
      "state": {}
     },
     "8d0936221a7542e8b0557053775e8060": {
      "model_module": "@jupyter-widgets/controls",
      "model_module_version": "2.0.0",
      "model_name": "ProgressStyleModel",
      "state": {
       "description_width": ""
      }
     },
     "8d0aa35cea614e468cbb2977c26f4053": {
      "model_module": "@jupyter-widgets/base",
      "model_module_version": "2.0.0",
      "model_name": "LayoutModel",
      "state": {}
     },
     "8ef01d4e94d642c68b5134b629d03318": {
      "model_module": "@jupyter-widgets/base",
      "model_module_version": "2.0.0",
      "model_name": "LayoutModel",
      "state": {}
     },
     "904bab2d52d5424881261b0693b5974a": {
      "model_module": "@jupyter-widgets/base",
      "model_module_version": "2.0.0",
      "model_name": "LayoutModel",
      "state": {}
     },
     "931cff3fad1444d9a515e376657805b2": {
      "model_module": "@jupyter-widgets/controls",
      "model_module_version": "2.0.0",
      "model_name": "ProgressStyleModel",
      "state": {
       "description_width": ""
      }
     },
     "93782dd89dbb4d37900044522a3e5af3": {
      "model_module": "@jupyter-widgets/controls",
      "model_module_version": "2.0.0",
      "model_name": "HTMLModel",
      "state": {
       "layout": "IPY_MODEL_2d1ac30a07bb4706a21f814889b7da26",
       "style": "IPY_MODEL_a021e8378ad8449f9aaf846c96683939",
       "value": " 140/142 [00:02&lt;00:00, 70.37it/s]"
      }
     },
     "947f59b02ff84629a8328233144f8d90": {
      "model_module": "@jupyter-widgets/base",
      "model_module_version": "2.0.0",
      "model_name": "LayoutModel",
      "state": {
       "visibility": "hidden"
      }
     },
     "95adc923aa1740f79b3a75e90f3fd576": {
      "model_module": "@jupyter-widgets/controls",
      "model_module_version": "2.0.0",
      "model_name": "ProgressStyleModel",
      "state": {
       "description_width": ""
      }
     },
     "960e0f42d8fa4ea6a4fb180645de9c29": {
      "model_module": "@jupyter-widgets/controls",
      "model_module_version": "2.0.0",
      "model_name": "HTMLStyleModel",
      "state": {
       "description_width": "",
       "font_size": null,
       "text_color": null
      }
     },
     "9631406da5174e49b3091390acccdc5d": {
      "model_module": "@jupyter-widgets/controls",
      "model_module_version": "2.0.0",
      "model_name": "HTMLStyleModel",
      "state": {
       "description_width": "",
       "font_size": null,
       "text_color": null
      }
     },
     "9644d25586064a929a237c59bd90c20c": {
      "model_module": "@jupyter-widgets/controls",
      "model_module_version": "2.0.0",
      "model_name": "HTMLModel",
      "state": {
       "layout": "IPY_MODEL_66763cd9c0e74a5fad9a7d58b3aa1618",
       "style": "IPY_MODEL_f7b160403d354f8bafe509f540fc51e4",
       "value": " 142/142 [00:02&lt;00:00, 70.44it/s]"
      }
     },
     "97eb6d036ac64a9b923551425b832c1d": {
      "model_module": "@jupyter-widgets/base",
      "model_module_version": "2.0.0",
      "model_name": "LayoutModel",
      "state": {}
     },
     "9826071a0eb944c5baa1e70f45a8de90": {
      "model_module": "@jupyter-widgets/controls",
      "model_module_version": "2.0.0",
      "model_name": "HTMLModel",
      "state": {
       "layout": "IPY_MODEL_22d62d87f55045db8ea044e96784a4d5",
       "style": "IPY_MODEL_690f5e3a6f534787a58cb89c4be10434",
       "value": " 96%"
      }
     },
     "98280b32fbb8467a989027797eb4f4d1": {
      "model_module": "@jupyter-widgets/controls",
      "model_module_version": "2.0.0",
      "model_name": "HTMLModel",
      "state": {
       "layout": "IPY_MODEL_117aeead94a043068766005032ec49d0",
       "style": "IPY_MODEL_27d106d9b5cd439a8981d0442d9bf913",
       "value": " 136/142 [00:01&lt;00:00, 68.84it/s]"
      }
     },
     "9957841b40a541baaea82ac9d6e4a3f8": {
      "model_module": "@jupyter-widgets/base",
      "model_module_version": "2.0.0",
      "model_name": "LayoutModel",
      "state": {}
     },
     "99bf06fc9ce24d65a2bb42f76e480187": {
      "model_module": "@jupyter-widgets/base",
      "model_module_version": "2.0.0",
      "model_name": "LayoutModel",
      "state": {}
     },
     "99fc69158762460dacdaf09504e1fdc1": {
      "model_module": "@jupyter-widgets/controls",
      "model_module_version": "2.0.0",
      "model_name": "HTMLStyleModel",
      "state": {
       "description_width": "",
       "font_size": null,
       "text_color": null
      }
     },
     "9b8e6e5a23474b3b91d3853957ab3a06": {
      "model_module": "@jupyter-widgets/base",
      "model_module_version": "2.0.0",
      "model_name": "LayoutModel",
      "state": {}
     },
     "9beaafa4b1af4f6c9affb4bd4283b120": {
      "model_module": "@jupyter-widgets/base",
      "model_module_version": "2.0.0",
      "model_name": "LayoutModel",
      "state": {
       "visibility": "hidden"
      }
     },
     "9f9ab34d824e40dc9164ccfa1c679d93": {
      "model_module": "@jupyter-widgets/base",
      "model_module_version": "2.0.0",
      "model_name": "LayoutModel",
      "state": {}
     },
     "9fb22e8f4af8494fae119db6093ef10a": {
      "model_module": "@jupyter-widgets/controls",
      "model_module_version": "2.0.0",
      "model_name": "HTMLStyleModel",
      "state": {
       "description_width": "",
       "font_size": null,
       "text_color": null
      }
     },
     "a021e8378ad8449f9aaf846c96683939": {
      "model_module": "@jupyter-widgets/controls",
      "model_module_version": "2.0.0",
      "model_name": "HTMLStyleModel",
      "state": {
       "description_width": "",
       "font_size": null,
       "text_color": null
      }
     },
     "a0a3d6fc1a8b4e289a395be2926c3e6a": {
      "model_module": "@jupyter-widgets/controls",
      "model_module_version": "2.0.0",
      "model_name": "HTMLStyleModel",
      "state": {
       "description_width": "",
       "font_size": null,
       "text_color": null
      }
     },
     "a23a74e8f9c045f48ac9246766a3582d": {
      "model_module": "@jupyter-widgets/controls",
      "model_module_version": "2.0.0",
      "model_name": "HTMLStyleModel",
      "state": {
       "description_width": "",
       "font_size": null,
       "text_color": null
      }
     },
     "a3640919c8a34083968c26dfdf8ea434": {
      "model_module": "@jupyter-widgets/base",
      "model_module_version": "2.0.0",
      "model_name": "LayoutModel",
      "state": {}
     },
     "a39ccac3737447d6bc5f4b86922359e4": {
      "model_module": "@jupyter-widgets/base",
      "model_module_version": "2.0.0",
      "model_name": "LayoutModel",
      "state": {}
     },
     "a4280bd43ba14912a37188d3c9a37338": {
      "model_module": "@jupyter-widgets/controls",
      "model_module_version": "2.0.0",
      "model_name": "FloatProgressModel",
      "state": {
       "layout": "IPY_MODEL_53f331751df540ec94468ecab916ff9a",
       "max": 142,
       "style": "IPY_MODEL_cbd3dcc37e2e4c759038ade68680f639",
       "value": 142
      }
     },
     "a501f541f0494f6fa68da8e551cc536c": {
      "model_module": "@jupyter-widgets/controls",
      "model_module_version": "2.0.0",
      "model_name": "ProgressStyleModel",
      "state": {
       "description_width": ""
      }
     },
     "a70227d74e58474ba925d70b55a6d1bc": {
      "model_module": "@jupyter-widgets/base",
      "model_module_version": "2.0.0",
      "model_name": "LayoutModel",
      "state": {}
     },
     "a7a0581cc4844c6fa4022f8f93eb2450": {
      "model_module": "@jupyter-widgets/controls",
      "model_module_version": "2.0.0",
      "model_name": "HTMLStyleModel",
      "state": {
       "description_width": "",
       "font_size": null,
       "text_color": null
      }
     },
     "a8267de7b93b40ebbf6501039a1f7bd0": {
      "model_module": "@jupyter-widgets/controls",
      "model_module_version": "2.0.0",
      "model_name": "HTMLModel",
      "state": {
       "layout": "IPY_MODEL_3c336084c5494e15befce0545b1add61",
       "style": "IPY_MODEL_40fe39003d4149d992a8b647747c0b0f",
       "value": " 141/142 [00:02&lt;00:00, 69.45it/s]"
      }
     },
     "a9b28b38fae641dd9a5104252d57b300": {
      "model_module": "@jupyter-widgets/controls",
      "model_module_version": "2.0.0",
      "model_name": "FloatProgressModel",
      "state": {
       "layout": "IPY_MODEL_62bb55998d344e12923dbe6dc015b5a3",
       "max": 142,
       "style": "IPY_MODEL_4756f3d48b364da99dcba746db497ebe",
       "value": 142
      }
     },
     "a9c69706d1354a5289907ed4d009f84a": {
      "model_module": "@jupyter-widgets/controls",
      "model_module_version": "2.0.0",
      "model_name": "FloatProgressModel",
      "state": {
       "layout": "IPY_MODEL_e9fa4d39923c4cefade3f45dfe400e0d",
       "max": 142,
       "style": "IPY_MODEL_76f49d80499048558411337432308f7b",
       "value": 142
      }
     },
     "abd0836bc6804fb6856f68cf45b0ae62": {
      "model_module": "@jupyter-widgets/base",
      "model_module_version": "2.0.0",
      "model_name": "LayoutModel",
      "state": {}
     },
     "ac1ab08da9c640f8b46426f7aeab6f7c": {
      "model_module": "@jupyter-widgets/base",
      "model_module_version": "2.0.0",
      "model_name": "LayoutModel",
      "state": {}
     },
     "ac6cafb5e00d4a20bf9ede277cb6fdad": {
      "model_module": "@jupyter-widgets/controls",
      "model_module_version": "2.0.0",
      "model_name": "FloatProgressModel",
      "state": {
       "layout": "IPY_MODEL_604a1a6944494ca593076cdceddfe0ae",
       "max": 142,
       "style": "IPY_MODEL_fde045dfcb074a42acbc4cefc2dbaa15",
       "value": 142
      }
     },
     "acbbb02f2bd54df5beac7dd371c979d3": {
      "model_module": "@jupyter-widgets/base",
      "model_module_version": "2.0.0",
      "model_name": "LayoutModel",
      "state": {
       "visibility": "hidden"
      }
     },
     "ad31076080d4409091492fe2902faa75": {
      "model_module": "@jupyter-widgets/base",
      "model_module_version": "2.0.0",
      "model_name": "LayoutModel",
      "state": {
       "visibility": "hidden"
      }
     },
     "ad94a74e6e1644d5ba23f9a827125d91": {
      "model_module": "@jupyter-widgets/controls",
      "model_module_version": "2.0.0",
      "model_name": "HTMLStyleModel",
      "state": {
       "description_width": "",
       "font_size": null,
       "text_color": null
      }
     },
     "adb489359d80442e92bc6b7350d59fb8": {
      "model_module": "@jupyter-widgets/base",
      "model_module_version": "2.0.0",
      "model_name": "LayoutModel",
      "state": {
       "visibility": "hidden"
      }
     },
     "ae36ffd19b344272a01de6fb61d3efa6": {
      "model_module": "@jupyter-widgets/base",
      "model_module_version": "2.0.0",
      "model_name": "LayoutModel",
      "state": {}
     },
     "ae882ee8a24e49c891f86a7a4dba5ff7": {
      "model_module": "@jupyter-widgets/controls",
      "model_module_version": "2.0.0",
      "model_name": "FloatProgressModel",
      "state": {
       "layout": "IPY_MODEL_841ba05fea494fe4abb4732d2828e0bb",
       "max": 142,
       "style": "IPY_MODEL_ef4c31087ac24c27b4a3f47e15473d3d",
       "value": 142
      }
     },
     "af42f0105658416c9e1714ccc8214506": {
      "model_module": "@jupyter-widgets/base",
      "model_module_version": "2.0.0",
      "model_name": "LayoutModel",
      "state": {}
     },
     "afbf606170bc4b709e3f03af524de493": {
      "model_module": "@jupyter-widgets/controls",
      "model_module_version": "2.0.0",
      "model_name": "FloatProgressModel",
      "state": {
       "layout": "IPY_MODEL_08fa6037d0284991b3caf07c9432fa41",
       "max": 200,
       "style": "IPY_MODEL_f1df80f2298f40ff9e65d0c6c1266394",
       "value": 29
      }
     },
     "aff023e1e18743de9345b80bb673fa5c": {
      "model_module": "@jupyter-widgets/controls",
      "model_module_version": "2.0.0",
      "model_name": "HTMLStyleModel",
      "state": {
       "description_width": "",
       "font_size": null,
       "text_color": null
      }
     },
     "b0607b75451b49efb4c82de1cb2437c6": {
      "model_module": "@jupyter-widgets/controls",
      "model_module_version": "2.0.0",
      "model_name": "HTMLModel",
      "state": {
       "layout": "IPY_MODEL_a70227d74e58474ba925d70b55a6d1bc",
       "style": "IPY_MODEL_3b069d3483894aa49fea948ff8bb4679",
       "value": " 135/142 [00:01&lt;00:00, 71.18it/s]"
      }
     },
     "b0db71fee4114e3fb7cda9fff3e29c0b": {
      "model_module": "@jupyter-widgets/controls",
      "model_module_version": "2.0.0",
      "model_name": "ProgressStyleModel",
      "state": {
       "description_width": ""
      }
     },
     "b30fe147669a42aab237fe07232d4c26": {
      "model_module": "@jupyter-widgets/base",
      "model_module_version": "2.0.0",
      "model_name": "LayoutModel",
      "state": {}
     },
     "b46bba76162b46f3854a356465373376": {
      "model_module": "@jupyter-widgets/controls",
      "model_module_version": "2.0.0",
      "model_name": "HTMLModel",
      "state": {
       "layout": "IPY_MODEL_dfb8a89f9e874ac7b0cbf41c9ab5ba30",
       "style": "IPY_MODEL_797fae9076ea455883f9d955abd88a9c",
       "value": " 136/142 [00:01&lt;00:00, 70.35it/s]"
      }
     },
     "b55bcab3324d4470b099aeac487b9d72": {
      "model_module": "@jupyter-widgets/controls",
      "model_module_version": "2.0.0",
      "model_name": "ProgressStyleModel",
      "state": {
       "description_width": ""
      }
     },
     "b590a508e54946568e8966395cc30049": {
      "model_module": "@jupyter-widgets/controls",
      "model_module_version": "2.0.0",
      "model_name": "HTMLStyleModel",
      "state": {
       "description_width": "",
       "font_size": null,
       "text_color": null
      }
     },
     "b803831334f84dbb9157115184643bde": {
      "model_module": "@jupyter-widgets/controls",
      "model_module_version": "2.0.0",
      "model_name": "ProgressStyleModel",
      "state": {
       "description_width": ""
      }
     },
     "ba6b8d1236654d75b02bb24e76a5a43a": {
      "model_module": "@jupyter-widgets/controls",
      "model_module_version": "2.0.0",
      "model_name": "HTMLStyleModel",
      "state": {
       "description_width": "",
       "font_size": null,
       "text_color": null
      }
     },
     "ba909fa1914f463ca198ac234ddffd4e": {
      "model_module": "@jupyter-widgets/controls",
      "model_module_version": "2.0.0",
      "model_name": "HTMLModel",
      "state": {
       "layout": "IPY_MODEL_21a025922cc9452c87d55681cec32735",
       "style": "IPY_MODEL_ba6b8d1236654d75b02bb24e76a5a43a",
       "value": " 94%"
      }
     },
     "bacf551f87de4cdead3675dfb269dafa": {
      "model_module": "@jupyter-widgets/base",
      "model_module_version": "2.0.0",
      "model_name": "LayoutModel",
      "state": {
       "visibility": "hidden"
      }
     },
     "bae6a81b56fb45febcc64fc908f6c5eb": {
      "model_module": "@jupyter-widgets/controls",
      "model_module_version": "2.0.0",
      "model_name": "HTMLModel",
      "state": {
       "layout": "IPY_MODEL_c1ffdc3fd77049c2935b80f9826c31cf",
       "style": "IPY_MODEL_61da492d1c1446198acbaee7b8860e90",
       "value": " 140/142 [00:02&lt;00:00, 70.34it/s]"
      }
     },
     "bb4b9746d44a4b998c62b8c8a8d63356": {
      "model_module": "@jupyter-widgets/base",
      "model_module_version": "2.0.0",
      "model_name": "LayoutModel",
      "state": {}
     },
     "bb4cd41ecc4548748b292ca538e653f9": {
      "model_module": "@jupyter-widgets/controls",
      "model_module_version": "2.0.0",
      "model_name": "HTMLStyleModel",
      "state": {
       "description_width": "",
       "font_size": null,
       "text_color": null
      }
     },
     "bbd088bc44f840a1a7dac9ec58f533fe": {
      "model_module": "@jupyter-widgets/controls",
      "model_module_version": "2.0.0",
      "model_name": "HTMLModel",
      "state": {
       "layout": "IPY_MODEL_07f0c052c5524033afef201f3231952e",
       "style": "IPY_MODEL_aff023e1e18743de9345b80bb673fa5c",
       "value": " 99%"
      }
     },
     "bcfc2472564949d08210c3a68fd0be83": {
      "model_module": "@jupyter-widgets/controls",
      "model_module_version": "2.0.0",
      "model_name": "HTMLStyleModel",
      "state": {
       "description_width": "",
       "font_size": null,
       "text_color": null
      }
     },
     "bd576063f1d844ffbc44daa346ce962c": {
      "model_module": "@jupyter-widgets/controls",
      "model_module_version": "2.0.0",
      "model_name": "ProgressStyleModel",
      "state": {
       "description_width": ""
      }
     },
     "becf12bc4e8d4b79b1759bc4530e05fb": {
      "model_module": "@jupyter-widgets/controls",
      "model_module_version": "2.0.0",
      "model_name": "HTMLModel",
      "state": {
       "layout": "IPY_MODEL_52dfcc85827f439c8c86ea1b9b308fbe",
       "style": "IPY_MODEL_3558f037e2134e3d93a9efab7d549f97",
       "value": " 141/142 [00:02&lt;00:00, 71.17it/s]"
      }
     },
     "beeb5aca0f624fb1bdb21321d3791b93": {
      "model_module": "@jupyter-widgets/base",
      "model_module_version": "2.0.0",
      "model_name": "LayoutModel",
      "state": {}
     },
     "bf85162caf194b33bdba369be0d289e0": {
      "model_module": "@jupyter-widgets/controls",
      "model_module_version": "2.0.0",
      "model_name": "ProgressStyleModel",
      "state": {
       "description_width": ""
      }
     },
     "c044135743574ad99708487ae31b3c84": {
      "model_module": "@jupyter-widgets/controls",
      "model_module_version": "2.0.0",
      "model_name": "HTMLStyleModel",
      "state": {
       "description_width": "",
       "font_size": null,
       "text_color": null
      }
     },
     "c08ce43ee17442bbb2730dd15debe6f0": {
      "model_module": "@jupyter-widgets/base",
      "model_module_version": "2.0.0",
      "model_name": "LayoutModel",
      "state": {
       "visibility": "hidden"
      }
     },
     "c1023cfcc6c6485e93ef20334d346b22": {
      "model_module": "@jupyter-widgets/controls",
      "model_module_version": "2.0.0",
      "model_name": "HTMLModel",
      "state": {
       "layout": "IPY_MODEL_56ec12257dda45acb3a2fcbcf981368f",
       "style": "IPY_MODEL_02fb8a66bb4841b8a020763117ed19e7",
       "value": "100%"
      }
     },
     "c1ffdc3fd77049c2935b80f9826c31cf": {
      "model_module": "@jupyter-widgets/base",
      "model_module_version": "2.0.0",
      "model_name": "LayoutModel",
      "state": {}
     },
     "c239c65bb7ed45e98f0117b85a548e46": {
      "model_module": "@jupyter-widgets/controls",
      "model_module_version": "2.0.0",
      "model_name": "HTMLStyleModel",
      "state": {
       "description_width": "",
       "font_size": null,
       "text_color": null
      }
     },
     "c2755e4acc814d1eb7556d2fe736f55f": {
      "model_module": "@jupyter-widgets/controls",
      "model_module_version": "2.0.0",
      "model_name": "HTMLModel",
      "state": {
       "layout": "IPY_MODEL_684e00c2c9b54e6dbdd9187e4c3f1414",
       "style": "IPY_MODEL_70bc650c8f5f4258a123f9c2a83d0095",
       "value": " 140/142 [00:02&lt;00:00, 68.51it/s]"
      }
     },
     "c351f4811cc949e5a689e4770dbd7121": {
      "model_module": "@jupyter-widgets/controls",
      "model_module_version": "2.0.0",
      "model_name": "FloatProgressModel",
      "state": {
       "layout": "IPY_MODEL_7166923824bb4563bd842a0748124606",
       "max": 142,
       "style": "IPY_MODEL_a501f541f0494f6fa68da8e551cc536c",
       "value": 142
      }
     },
     "c705359aed714e3ca8686c9a1368dfd5": {
      "model_module": "@jupyter-widgets/base",
      "model_module_version": "2.0.0",
      "model_name": "LayoutModel",
      "state": {}
     },
     "c793899b97b24d2690173010eb999a75": {
      "model_module": "@jupyter-widgets/base",
      "model_module_version": "2.0.0",
      "model_name": "LayoutModel",
      "state": {}
     },
     "c996f3c8c29e4afeb7ead84aac948b1a": {
      "model_module": "@jupyter-widgets/controls",
      "model_module_version": "2.0.0",
      "model_name": "FloatProgressModel",
      "state": {
       "layout": "IPY_MODEL_72e51cdc46834349a9165a1782adb8bc",
       "max": 142,
       "style": "IPY_MODEL_230e311527f748f587f4cbb59e5637a1",
       "value": 142
      }
     },
     "ca4522c5a3624fcf9aecd22f98219252": {
      "model_module": "@jupyter-widgets/controls",
      "model_module_version": "2.0.0",
      "model_name": "ProgressStyleModel",
      "state": {
       "description_width": ""
      }
     },
     "cbd3dcc37e2e4c759038ade68680f639": {
      "model_module": "@jupyter-widgets/controls",
      "model_module_version": "2.0.0",
      "model_name": "ProgressStyleModel",
      "state": {
       "description_width": ""
      }
     },
     "cc3b6e03ad4241189855b9985f466ca2": {
      "model_module": "@jupyter-widgets/base",
      "model_module_version": "2.0.0",
      "model_name": "LayoutModel",
      "state": {}
     },
     "cd3f675b5cbd4a298100a57f6603e15e": {
      "model_module": "@jupyter-widgets/base",
      "model_module_version": "2.0.0",
      "model_name": "LayoutModel",
      "state": {}
     },
     "ceba0e8535b54abe972befbde51a0020": {
      "model_module": "@jupyter-widgets/controls",
      "model_module_version": "2.0.0",
      "model_name": "HTMLModel",
      "state": {
       "layout": "IPY_MODEL_f3585751631e41369afb1a823dd30826",
       "style": "IPY_MODEL_ad94a74e6e1644d5ba23f9a827125d91",
       "value": " 140/142 [00:02&lt;00:00, 70.70it/s]"
      }
     },
     "d07c42ef7fed48959c2f9ddac4704122": {
      "model_module": "@jupyter-widgets/base",
      "model_module_version": "2.0.0",
      "model_name": "LayoutModel",
      "state": {}
     },
     "d0a805959923475d9fe8ef896aae5842": {
      "model_module": "@jupyter-widgets/controls",
      "model_module_version": "2.0.0",
      "model_name": "HTMLStyleModel",
      "state": {
       "description_width": "",
       "font_size": null,
       "text_color": null
      }
     },
     "d157568345264d14af31b523cb434f21": {
      "model_module": "@jupyter-widgets/controls",
      "model_module_version": "2.0.0",
      "model_name": "HTMLStyleModel",
      "state": {
       "description_width": "",
       "font_size": null,
       "text_color": null
      }
     },
     "d17610a0e41b410cbe31677ac8a17862": {
      "model_module": "@jupyter-widgets/controls",
      "model_module_version": "2.0.0",
      "model_name": "HTMLStyleModel",
      "state": {
       "description_width": "",
       "font_size": null,
       "text_color": null
      }
     },
     "d281baaa41394a73b36fb76d8bfc587c": {
      "model_module": "@jupyter-widgets/base",
      "model_module_version": "2.0.0",
      "model_name": "LayoutModel",
      "state": {}
     },
     "d34424434937497d9e68475c01be6442": {
      "model_module": "@jupyter-widgets/controls",
      "model_module_version": "2.0.0",
      "model_name": "ProgressStyleModel",
      "state": {
       "description_width": ""
      }
     },
     "d3d4bbb75746409982634d359b063a17": {
      "model_module": "@jupyter-widgets/controls",
      "model_module_version": "2.0.0",
      "model_name": "HTMLModel",
      "state": {
       "layout": "IPY_MODEL_ae36ffd19b344272a01de6fb61d3efa6",
       "style": "IPY_MODEL_fef0c069119a4623a531c2b3e7028b1e",
       "value": " 96%"
      }
     },
     "d41985627017457981cbf58b1ce58b16": {
      "model_module": "@jupyter-widgets/base",
      "model_module_version": "2.0.0",
      "model_name": "LayoutModel",
      "state": {
       "visibility": "hidden"
      }
     },
     "d425f23a6e2d4061bfb784d94eca1a1c": {
      "model_module": "@jupyter-widgets/controls",
      "model_module_version": "2.0.0",
      "model_name": "HTMLModel",
      "state": {
       "layout": "IPY_MODEL_5287da00c89c4061b8476f050d6df215",
       "style": "IPY_MODEL_99fc69158762460dacdaf09504e1fdc1",
       "value": " 136/142 [00:01&lt;00:00, 68.76it/s]"
      }
     },
     "d4594ada4c674e648a6bc6ad32f04f27": {
      "model_module": "@jupyter-widgets/controls",
      "model_module_version": "2.0.0",
      "model_name": "FloatProgressModel",
      "state": {
       "layout": "IPY_MODEL_8d0aa35cea614e468cbb2977c26f4053",
       "max": 142,
       "style": "IPY_MODEL_931cff3fad1444d9a515e376657805b2",
       "value": 142
      }
     },
     "d52ff20449504286a4891ec816590259": {
      "model_module": "@jupyter-widgets/controls",
      "model_module_version": "2.0.0",
      "model_name": "HTMLStyleModel",
      "state": {
       "description_width": "",
       "font_size": null,
       "text_color": null
      }
     },
     "d6b6ac2bf42d4770b804a6ea0329c6ec": {
      "model_module": "@jupyter-widgets/controls",
      "model_module_version": "2.0.0",
      "model_name": "HTMLModel",
      "state": {
       "layout": "IPY_MODEL_8bbfcc2980714afabf1fd058cc4b4cb2",
       "style": "IPY_MODEL_11ae819d34d74076af6bb601f2f9933f",
       "value": " 99%"
      }
     },
     "d74eeda6fa08401ca88d02b6ff214069": {
      "model_module": "@jupyter-widgets/base",
      "model_module_version": "2.0.0",
      "model_name": "LayoutModel",
      "state": {}
     },
     "d772b478b80a4ba8a93580f47bb4ab9b": {
      "model_module": "@jupyter-widgets/controls",
      "model_module_version": "2.0.0",
      "model_name": "HBoxModel",
      "state": {
       "children": [
        "IPY_MODEL_11ea634445aa4832b5ccca5adba11a39",
        "IPY_MODEL_afbf606170bc4b709e3f03af524de493",
        "IPY_MODEL_fe24404923d9403fa41d7ceb1775e764"
       ],
       "layout": "IPY_MODEL_59650eb591754ba1beb43df8541a1fff"
      }
     },
     "d8583b1eb5fa4c4dad21eb269d9ccd6d": {
      "model_module": "@jupyter-widgets/controls",
      "model_module_version": "2.0.0",
      "model_name": "HTMLModel",
      "state": {
       "layout": "IPY_MODEL_066971c30d394e09a0103c5d0774f905",
       "style": "IPY_MODEL_a7a0581cc4844c6fa4022f8f93eb2450",
       "value": " 95%"
      }
     },
     "d86a277e2c844f408f108b32d937618b": {
      "model_module": "@jupyter-widgets/controls",
      "model_module_version": "2.0.0",
      "model_name": "FloatProgressModel",
      "state": {
       "layout": "IPY_MODEL_888335426fad4cf9af4d7a5ed64de10c",
       "max": 142,
       "style": "IPY_MODEL_ddd62f7e672a4e01a17fbd26a6ce16d8",
       "value": 142
      }
     },
     "d9c4359be4754958868970a6dd4585fe": {
      "model_module": "@jupyter-widgets/base",
      "model_module_version": "2.0.0",
      "model_name": "LayoutModel",
      "state": {}
     },
     "d9c7d84dbc86467fba0fce407683c33e": {
      "model_module": "@jupyter-widgets/controls",
      "model_module_version": "2.0.0",
      "model_name": "FloatProgressModel",
      "state": {
       "layout": "IPY_MODEL_dd44b3bcb79346e0823390efd7208b4f",
       "max": 142,
       "style": "IPY_MODEL_0d7481000a1144feb8b1f5190d134cf7",
       "value": 142
      }
     },
     "d9f606158df34a99b2a932eb8362bed8": {
      "model_module": "@jupyter-widgets/controls",
      "model_module_version": "2.0.0",
      "model_name": "ProgressStyleModel",
      "state": {
       "description_width": ""
      }
     },
     "da7181f12b344d0f8e7a07ba40cabaac": {
      "model_module": "@jupyter-widgets/base",
      "model_module_version": "2.0.0",
      "model_name": "LayoutModel",
      "state": {}
     },
     "daa395a1af55452dbb1872460663f52d": {
      "model_module": "@jupyter-widgets/base",
      "model_module_version": "2.0.0",
      "model_name": "LayoutModel",
      "state": {
       "visibility": "hidden"
      }
     },
     "dbe6d649c99947f9b48730ad34bd2ee0": {
      "model_module": "@jupyter-widgets/base",
      "model_module_version": "2.0.0",
      "model_name": "LayoutModel",
      "state": {
       "visibility": "hidden"
      }
     },
     "dc4c1c98a74b41cca13ebecbbed2caa6": {
      "model_module": "@jupyter-widgets/base",
      "model_module_version": "2.0.0",
      "model_name": "LayoutModel",
      "state": {}
     },
     "dcdf07da69ca4a7ab303ec9058cdde32": {
      "model_module": "@jupyter-widgets/base",
      "model_module_version": "2.0.0",
      "model_name": "LayoutModel",
      "state": {
       "visibility": "hidden"
      }
     },
     "dcf52973f94048fa95ce096a6e1210a4": {
      "model_module": "@jupyter-widgets/controls",
      "model_module_version": "2.0.0",
      "model_name": "HTMLModel",
      "state": {
       "layout": "IPY_MODEL_41c6e5e4434340f3b70f0347309b53dd",
       "style": "IPY_MODEL_c239c65bb7ed45e98f0117b85a548e46",
       "value": " 96%"
      }
     },
     "dd39650ea46349edb51bbb800e088b1e": {
      "model_module": "@jupyter-widgets/base",
      "model_module_version": "2.0.0",
      "model_name": "LayoutModel",
      "state": {
       "visibility": "hidden"
      }
     },
     "dd44b3bcb79346e0823390efd7208b4f": {
      "model_module": "@jupyter-widgets/base",
      "model_module_version": "2.0.0",
      "model_name": "LayoutModel",
      "state": {}
     },
     "ddd62f7e672a4e01a17fbd26a6ce16d8": {
      "model_module": "@jupyter-widgets/controls",
      "model_module_version": "2.0.0",
      "model_name": "ProgressStyleModel",
      "state": {
       "description_width": ""
      }
     },
     "df690f42d6914dc4bd0d1bb0cf22e44c": {
      "model_module": "@jupyter-widgets/controls",
      "model_module_version": "2.0.0",
      "model_name": "FloatProgressModel",
      "state": {
       "layout": "IPY_MODEL_9957841b40a541baaea82ac9d6e4a3f8",
       "max": 142,
       "style": "IPY_MODEL_7ce81f01bf264dc3ac392fd3503ea467",
       "value": 142
      }
     },
     "dfb8a89f9e874ac7b0cbf41c9ab5ba30": {
      "model_module": "@jupyter-widgets/base",
      "model_module_version": "2.0.0",
      "model_name": "LayoutModel",
      "state": {}
     },
     "e29171815d3a4392a6b8fda3eb1d2cda": {
      "model_module": "@jupyter-widgets/controls",
      "model_module_version": "2.0.0",
      "model_name": "HTMLStyleModel",
      "state": {
       "description_width": "",
       "font_size": null,
       "text_color": null
      }
     },
     "e4126f81b460497ca16b1dcf56d6c678": {
      "model_module": "@jupyter-widgets/controls",
      "model_module_version": "2.0.0",
      "model_name": "HTMLModel",
      "state": {
       "layout": "IPY_MODEL_97eb6d036ac64a9b923551425b832c1d",
       "style": "IPY_MODEL_835025374ac8493fa314660ea5585503",
       "value": " 96%"
      }
     },
     "e4804f038cde4ea19fd792b4af96dfff": {
      "model_module": "@jupyter-widgets/controls",
      "model_module_version": "2.0.0",
      "model_name": "FloatProgressModel",
      "state": {
       "layout": "IPY_MODEL_1e59830ebd1049258372949b5d91b273",
       "max": 142,
       "style": "IPY_MODEL_4d7ce2fe9a1d4836adb6d39ff8cf34bf",
       "value": 142
      }
     },
     "e48c328e6fb64d07bf696c9289210a8a": {
      "model_module": "@jupyter-widgets/base",
      "model_module_version": "2.0.0",
      "model_name": "LayoutModel",
      "state": {
       "visibility": "hidden"
      }
     },
     "e59a3802d11441e6ada4fe9c61a4404a": {
      "model_module": "@jupyter-widgets/controls",
      "model_module_version": "2.0.0",
      "model_name": "HTMLModel",
      "state": {
       "layout": "IPY_MODEL_27104f23df0f41edb234ff732b806b59",
       "style": "IPY_MODEL_a23a74e8f9c045f48ac9246766a3582d",
       "value": " 99%"
      }
     },
     "e6040941260f4a88b69e86359caf4c78": {
      "model_module": "@jupyter-widgets/base",
      "model_module_version": "2.0.0",
      "model_name": "LayoutModel",
      "state": {}
     },
     "e6ad4dfa23aa4ae39faeb800db447165": {
      "model_module": "@jupyter-widgets/controls",
      "model_module_version": "2.0.0",
      "model_name": "HTMLStyleModel",
      "state": {
       "description_width": "",
       "font_size": null,
       "text_color": null
      }
     },
     "e8234d06216a423ba95cab84ef35c3e8": {
      "model_module": "@jupyter-widgets/controls",
      "model_module_version": "2.0.0",
      "model_name": "ProgressStyleModel",
      "state": {
       "description_width": ""
      }
     },
     "e9af61b8794144f8b6237b3611e416d1": {
      "model_module": "@jupyter-widgets/controls",
      "model_module_version": "2.0.0",
      "model_name": "HTMLStyleModel",
      "state": {
       "description_width": "",
       "font_size": null,
       "text_color": null
      }
     },
     "e9fa4d39923c4cefade3f45dfe400e0d": {
      "model_module": "@jupyter-widgets/base",
      "model_module_version": "2.0.0",
      "model_name": "LayoutModel",
      "state": {}
     },
     "eb9517c4dd014e3293dd007fdeb6c8e0": {
      "model_module": "@jupyter-widgets/base",
      "model_module_version": "2.0.0",
      "model_name": "LayoutModel",
      "state": {}
     },
     "ed512924adb640ed9105d9e935338ada": {
      "model_module": "@jupyter-widgets/controls",
      "model_module_version": "2.0.0",
      "model_name": "HTMLModel",
      "state": {
       "layout": "IPY_MODEL_d9c4359be4754958868970a6dd4585fe",
       "style": "IPY_MODEL_c044135743574ad99708487ae31b3c84",
       "value": " 135/142 [00:01&lt;00:00, 69.14it/s]"
      }
     },
     "ee7c807879d64781a97234d202a89bed": {
      "model_module": "@jupyter-widgets/controls",
      "model_module_version": "2.0.0",
      "model_name": "HTMLModel",
      "state": {
       "layout": "IPY_MODEL_4e7f73c183c54a08854ba5709e66806b",
       "style": "IPY_MODEL_22a3a17c7056425a8b18866139363257",
       "value": " 95%"
      }
     },
     "ef32d08757054f85a53f33d9596a7c38": {
      "model_module": "@jupyter-widgets/controls",
      "model_module_version": "2.0.0",
      "model_name": "FloatProgressModel",
      "state": {
       "layout": "IPY_MODEL_ac1ab08da9c640f8b46426f7aeab6f7c",
       "max": 142,
       "style": "IPY_MODEL_d34424434937497d9e68475c01be6442",
       "value": 142
      }
     },
     "ef4c31087ac24c27b4a3f47e15473d3d": {
      "model_module": "@jupyter-widgets/controls",
      "model_module_version": "2.0.0",
      "model_name": "ProgressStyleModel",
      "state": {
       "description_width": ""
      }
     },
     "efbe223cadee498496a4da10e2fc4def": {
      "model_module": "@jupyter-widgets/controls",
      "model_module_version": "2.0.0",
      "model_name": "HTMLStyleModel",
      "state": {
       "description_width": "",
       "font_size": null,
       "text_color": null
      }
     },
     "f004f4593bf34ad2903d713e2b3aa8c9": {
      "model_module": "@jupyter-widgets/controls",
      "model_module_version": "2.0.0",
      "model_name": "HTMLStyleModel",
      "state": {
       "description_width": "",
       "font_size": null,
       "text_color": null
      }
     },
     "f1df80f2298f40ff9e65d0c6c1266394": {
      "model_module": "@jupyter-widgets/controls",
      "model_module_version": "2.0.0",
      "model_name": "ProgressStyleModel",
      "state": {
       "description_width": ""
      }
     },
     "f3585751631e41369afb1a823dd30826": {
      "model_module": "@jupyter-widgets/base",
      "model_module_version": "2.0.0",
      "model_name": "LayoutModel",
      "state": {}
     },
     "f3e1b5292ae94340a359409a8518a6c6": {
      "model_module": "@jupyter-widgets/base",
      "model_module_version": "2.0.0",
      "model_name": "LayoutModel",
      "state": {}
     },
     "f3fd50764f0140cebc756357da4f6df2": {
      "model_module": "@jupyter-widgets/controls",
      "model_module_version": "2.0.0",
      "model_name": "FloatProgressModel",
      "state": {
       "layout": "IPY_MODEL_2507d7863d2e4ba8893740dbb091bbea",
       "max": 142,
       "style": "IPY_MODEL_b0db71fee4114e3fb7cda9fff3e29c0b",
       "value": 142
      }
     },
     "f4dac3c1fc104d4ab039bdd0c20d602b": {
      "model_module": "@jupyter-widgets/base",
      "model_module_version": "2.0.0",
      "model_name": "LayoutModel",
      "state": {}
     },
     "f5a62d8dc554499d81382c66bc3e36f3": {
      "model_module": "@jupyter-widgets/controls",
      "model_module_version": "2.0.0",
      "model_name": "HTMLModel",
      "state": {
       "layout": "IPY_MODEL_abd0836bc6804fb6856f68cf45b0ae62",
       "style": "IPY_MODEL_960e0f42d8fa4ea6a4fb180645de9c29",
       "value": " 54/142 [00:00&lt;00:01, 67.02it/s]"
      }
     },
     "f62de79e03e3468e9922ce30ed1eadc3": {
      "model_module": "@jupyter-widgets/base",
      "model_module_version": "2.0.0",
      "model_name": "LayoutModel",
      "state": {}
     },
     "f70c427eaa0444919d9506847fc337eb": {
      "model_module": "@jupyter-widgets/controls",
      "model_module_version": "2.0.0",
      "model_name": "ProgressStyleModel",
      "state": {
       "description_width": ""
      }
     },
     "f7b160403d354f8bafe509f540fc51e4": {
      "model_module": "@jupyter-widgets/controls",
      "model_module_version": "2.0.0",
      "model_name": "HTMLStyleModel",
      "state": {
       "description_width": "",
       "font_size": null,
       "text_color": null
      }
     },
     "f90dac236506466d8bf92aae78d8730b": {
      "model_module": "@jupyter-widgets/controls",
      "model_module_version": "2.0.0",
      "model_name": "HTMLStyleModel",
      "state": {
       "description_width": "",
       "font_size": null,
       "text_color": null
      }
     },
     "f92094b4c1a048b184652e7390dbf8a5": {
      "model_module": "@jupyter-widgets/controls",
      "model_module_version": "2.0.0",
      "model_name": "HTMLStyleModel",
      "state": {
       "description_width": "",
       "font_size": null,
       "text_color": null
      }
     },
     "f93e1ef0ba5440fe8f9e5829170b5c1b": {
      "model_module": "@jupyter-widgets/base",
      "model_module_version": "2.0.0",
      "model_name": "LayoutModel",
      "state": {
       "visibility": "hidden"
      }
     },
     "f94c670d279d4cb78c092733d9d200f3": {
      "model_module": "@jupyter-widgets/controls",
      "model_module_version": "2.0.0",
      "model_name": "FloatProgressModel",
      "state": {
       "layout": "IPY_MODEL_af42f0105658416c9e1714ccc8214506",
       "max": 142,
       "style": "IPY_MODEL_113a0297355e49b3b719e9d821aab158",
       "value": 142
      }
     },
     "f95c0a8e13594d27aa73a1c331db1b6e": {
      "model_module": "@jupyter-widgets/controls",
      "model_module_version": "2.0.0",
      "model_name": "FloatProgressModel",
      "state": {
       "layout": "IPY_MODEL_4892c4c75e6b46279f4fff6fd3de83d5",
       "max": 142,
       "style": "IPY_MODEL_3b70f826d3944513824d8dc96ac380a6",
       "value": 142
      }
     },
     "f985d393e8c24438aca8d38e02e80733": {
      "model_module": "@jupyter-widgets/base",
      "model_module_version": "2.0.0",
      "model_name": "LayoutModel",
      "state": {
       "visibility": "hidden"
      }
     },
     "fb5147f1c7af4d5f81855fdfbd015f1f": {
      "model_module": "@jupyter-widgets/controls",
      "model_module_version": "2.0.0",
      "model_name": "HTMLStyleModel",
      "state": {
       "description_width": "",
       "font_size": null,
       "text_color": null
      }
     },
     "fd15690f50e2493eb645c6001e45ec15": {
      "model_module": "@jupyter-widgets/controls",
      "model_module_version": "2.0.0",
      "model_name": "FloatProgressModel",
      "state": {
       "layout": "IPY_MODEL_45ff9d939fa64d6a94b240f05632f56a",
       "max": 142,
       "style": "IPY_MODEL_e8234d06216a423ba95cab84ef35c3e8",
       "value": 142
      }
     },
     "fde045dfcb074a42acbc4cefc2dbaa15": {
      "model_module": "@jupyter-widgets/controls",
      "model_module_version": "2.0.0",
      "model_name": "ProgressStyleModel",
      "state": {
       "description_width": ""
      }
     },
     "fe24404923d9403fa41d7ceb1775e764": {
      "model_module": "@jupyter-widgets/controls",
      "model_module_version": "2.0.0",
      "model_name": "HTMLModel",
      "state": {
       "layout": "IPY_MODEL_0c56da5fb70c4d9fb712d9ddd6df6386",
       "style": "IPY_MODEL_58499fe4840247afa589071f876d109f",
       "value": " 29/200 [01:11&lt;06:59,  2.46s/it]"
      }
     },
     "fef0c069119a4623a531c2b3e7028b1e": {
      "model_module": "@jupyter-widgets/controls",
      "model_module_version": "2.0.0",
      "model_name": "HTMLStyleModel",
      "state": {
       "description_width": "",
       "font_size": null,
       "text_color": null
      }
     },
     "fefc800c21364c5c832c68392ae051e1": {
      "model_module": "@jupyter-widgets/controls",
      "model_module_version": "2.0.0",
      "model_name": "FloatProgressModel",
      "state": {
       "layout": "IPY_MODEL_9f9ab34d824e40dc9164ccfa1c679d93",
       "max": 142,
       "style": "IPY_MODEL_d9f606158df34a99b2a932eb8362bed8",
       "value": 142
      }
     }
    },
    "version_major": 2,
    "version_minor": 0
   }
  }
 },
 "nbformat": 4,
 "nbformat_minor": 5
}
